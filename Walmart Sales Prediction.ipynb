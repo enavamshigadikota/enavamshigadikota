{
 "cells": [
  {
   "cell_type": "code",
   "execution_count": 64,
   "metadata": {},
   "outputs": [],
   "source": [
    "# importing the reequired lilbraries\n",
    "import numpy as np\n",
    "import pandas as pd\n",
    "import matplotlib.pyplot as plt\n",
    "import seaborn as sns\n",
    "pd.options.display.max_columns=None\n",
    "from sklearn.ensemble import AdaBoostRegressor\n",
    "from sklearn.tree import DecisionTreeRegressor\n",
    "from sklearn.neighbors import KNeighborsRegressor\n",
    "import warnings\n",
    "warnings.filterwarnings('ignore')"
   ]
  },
  {
   "cell_type": "code",
   "execution_count": 65,
   "metadata": {},
   "outputs": [],
   "source": [
    "train=pd.read_csv('train.csv')\n",
    "test=pd.read_csv('test.csv')"
   ]
  },
  {
   "cell_type": "code",
   "execution_count": 66,
   "metadata": {},
   "outputs": [],
   "source": [
    "train['data']='train'\n",
    "test['data']='test'"
   ]
  },
  {
   "cell_type": "code",
   "execution_count": 67,
   "metadata": {},
   "outputs": [],
   "source": [
    "cond1=train['Sales(In ThousandDollars)'].isnull()==False\n",
    "train=train[cond1]"
   ]
  },
  {
   "cell_type": "code",
   "execution_count": 68,
   "metadata": {},
   "outputs": [],
   "source": [
    "cons=pd.concat([train,test])"
   ]
  },
  {
   "cell_type": "code",
   "execution_count": 69,
   "metadata": {},
   "outputs": [
    {
     "data": {
      "text/plain": [
       "(240, 5)"
      ]
     },
     "execution_count": 69,
     "metadata": {},
     "output_type": "execute_result"
    }
   ],
   "source": [
    "cons.shape"
   ]
  },
  {
   "cell_type": "code",
   "execution_count": 70,
   "metadata": {},
   "outputs": [
    {
     "name": "stdout",
     "output_type": "stream",
     "text": [
      "<class 'pandas.core.frame.DataFrame'>\n",
      "Int64Index: 240 entries, 0 to 35\n",
      "Data columns (total 5 columns):\n",
      "Year                         240 non-null int64\n",
      "Month                        240 non-null int64\n",
      "ProductCategory              240 non-null object\n",
      "Sales(In ThousandDollars)    204 non-null float64\n",
      "data                         240 non-null object\n",
      "dtypes: float64(1), int64(2), object(2)\n",
      "memory usage: 11.2+ KB\n"
     ]
    }
   ],
   "source": [
    "cons.info()"
   ]
  },
  {
   "cell_type": "raw",
   "metadata": {},
   "source": [
    "Now the consolidated dataset is ready we gotta import the next dataset called macro_economic where all econimic details are present"
   ]
  },
  {
   "cell_type": "code",
   "execution_count": 71,
   "metadata": {},
   "outputs": [],
   "source": [
    "mc=pd.read_excel('macro_economic.xlsx',na_values=['?'])"
   ]
  },
  {
   "cell_type": "code",
   "execution_count": 72,
   "metadata": {},
   "outputs": [],
   "source": [
    "newcols=['year','month']\n",
    "mc[['year','month']]=pd.DataFrame(mc['Year-Month'].str.split('-').tolist(),columns=newcols)"
   ]
  },
  {
   "cell_type": "code",
   "execution_count": 73,
   "metadata": {},
   "outputs": [],
   "source": [
    "cols=['year',\n",
    "       'month','Monthly Nominal GDP Index (inMillion$)',\n",
    "       'Monthly Real GDP Index (inMillion$)', 'CPI', 'PartyInPower',\n",
    "       'unemployment rate', 'CommercialBankInterestRateonCreditCardPlans',\n",
    "       'Finance Rate on Personal Loans at Commercial Banks, 24 Month Loan',\n",
    "       'Earnings or wages  in dollars per hour',\n",
    "       'AdvertisingExpenses (in Thousand Dollars)',\n",
    "       'Cotton Monthly Price - US cents per Pound(lbs)', 'Change(in%)',\n",
    "       'Average upland planted(million acres)',\n",
    "       'Average upland harvested(million acres)', 'yieldperharvested acre',\n",
    "       'Production (in  480-lb netweright in million bales)',\n",
    "       'Mill use  (in  480-lb netweright in million bales)', 'Exports']"
   ]
  },
  {
   "cell_type": "code",
   "execution_count": 74,
   "metadata": {},
   "outputs": [],
   "source": [
    "mc=mc[cols]"
   ]
  },
  {
   "cell_type": "code",
   "execution_count": 75,
   "metadata": {},
   "outputs": [
    {
     "data": {
      "text/html": [
       "<div>\n",
       "<style scoped>\n",
       "    .dataframe tbody tr th:only-of-type {\n",
       "        vertical-align: middle;\n",
       "    }\n",
       "\n",
       "    .dataframe tbody tr th {\n",
       "        vertical-align: top;\n",
       "    }\n",
       "\n",
       "    .dataframe thead th {\n",
       "        text-align: right;\n",
       "    }\n",
       "</style>\n",
       "<table border=\"1\" class=\"dataframe\">\n",
       "  <thead>\n",
       "    <tr style=\"text-align: right;\">\n",
       "      <th></th>\n",
       "      <th>year</th>\n",
       "      <th>month</th>\n",
       "      <th>Monthly Nominal GDP Index (inMillion$)</th>\n",
       "      <th>Monthly Real GDP Index (inMillion$)</th>\n",
       "      <th>CPI</th>\n",
       "      <th>PartyInPower</th>\n",
       "      <th>unemployment rate</th>\n",
       "      <th>CommercialBankInterestRateonCreditCardPlans</th>\n",
       "      <th>Finance Rate on Personal Loans at Commercial Banks, 24 Month Loan</th>\n",
       "      <th>Earnings or wages  in dollars per hour</th>\n",
       "      <th>AdvertisingExpenses (in Thousand Dollars)</th>\n",
       "      <th>Cotton Monthly Price - US cents per Pound(lbs)</th>\n",
       "      <th>Change(in%)</th>\n",
       "      <th>Average upland planted(million acres)</th>\n",
       "      <th>Average upland harvested(million acres)</th>\n",
       "      <th>yieldperharvested acre</th>\n",
       "      <th>Production (in  480-lb netweright in million bales)</th>\n",
       "      <th>Mill use  (in  480-lb netweright in million bales)</th>\n",
       "      <th>Exports</th>\n",
       "    </tr>\n",
       "  </thead>\n",
       "  <tbody>\n",
       "    <tr>\n",
       "      <th>0</th>\n",
       "      <td>2009</td>\n",
       "      <td>Jan</td>\n",
       "      <td>14421.752895</td>\n",
       "      <td>14407.053343</td>\n",
       "      <td>233.402</td>\n",
       "      <td>Democrats</td>\n",
       "      <td>7.8</td>\n",
       "      <td>12.03</td>\n",
       "      <td>11.44</td>\n",
       "      <td>22.05</td>\n",
       "      <td>137.0</td>\n",
       "      <td>57.70</td>\n",
       "      <td>4.02</td>\n",
       "      <td>9.296</td>\n",
       "      <td>7.559</td>\n",
       "      <td>799</td>\n",
       "      <td>12.589</td>\n",
       "      <td>4.17</td>\n",
       "      <td>11.550</td>\n",
       "    </tr>\n",
       "    <tr>\n",
       "      <th>1</th>\n",
       "      <td>2009</td>\n",
       "      <td>Feb</td>\n",
       "      <td>14389.200466</td>\n",
       "      <td>14366.176571</td>\n",
       "      <td>234.663</td>\n",
       "      <td>Democrats</td>\n",
       "      <td>8.3</td>\n",
       "      <td>12.97</td>\n",
       "      <td>11.05</td>\n",
       "      <td>22.22</td>\n",
       "      <td>200.0</td>\n",
       "      <td>55.21</td>\n",
       "      <td>-4.32</td>\n",
       "      <td>9.296</td>\n",
       "      <td>7.559</td>\n",
       "      <td>799</td>\n",
       "      <td>12.589</td>\n",
       "      <td>3.87</td>\n",
       "      <td>11.100</td>\n",
       "    </tr>\n",
       "    <tr>\n",
       "      <th>2</th>\n",
       "      <td>2009</td>\n",
       "      <td>Mar</td>\n",
       "      <td>14340.701639</td>\n",
       "      <td>14351.786822</td>\n",
       "      <td>235.067</td>\n",
       "      <td>Democrats</td>\n",
       "      <td>8.7</td>\n",
       "      <td>12.97</td>\n",
       "      <td>11.05</td>\n",
       "      <td>22.22</td>\n",
       "      <td>NaN</td>\n",
       "      <td>51.50</td>\n",
       "      <td>-6.72</td>\n",
       "      <td>9.296</td>\n",
       "      <td>7.559</td>\n",
       "      <td>799</td>\n",
       "      <td>12.589</td>\n",
       "      <td>3.72</td>\n",
       "      <td>11.650</td>\n",
       "    </tr>\n",
       "    <tr>\n",
       "      <th>3</th>\n",
       "      <td>2009</td>\n",
       "      <td>Apr</td>\n",
       "      <td>14326.815525</td>\n",
       "      <td>14351.601731</td>\n",
       "      <td>235.582</td>\n",
       "      <td>Democrats</td>\n",
       "      <td>9.0</td>\n",
       "      <td>12.97</td>\n",
       "      <td>11.05</td>\n",
       "      <td>22.13</td>\n",
       "      <td>214.0</td>\n",
       "      <td>56.78</td>\n",
       "      <td>10.25</td>\n",
       "      <td>9.296</td>\n",
       "      <td>7.559</td>\n",
       "      <td>787</td>\n",
       "      <td>12.400</td>\n",
       "      <td>3.62</td>\n",
       "      <td>12.225</td>\n",
       "    </tr>\n",
       "    <tr>\n",
       "      <th>4</th>\n",
       "      <td>2009</td>\n",
       "      <td>May</td>\n",
       "      <td>14345.904809</td>\n",
       "      <td>14368.123959</td>\n",
       "      <td>235.975</td>\n",
       "      <td>Democrats</td>\n",
       "      <td>9.4</td>\n",
       "      <td>13.32</td>\n",
       "      <td>11.25</td>\n",
       "      <td>22.04</td>\n",
       "      <td>NaN</td>\n",
       "      <td>61.95</td>\n",
       "      <td>9.11</td>\n",
       "      <td>9.297</td>\n",
       "      <td>7.400</td>\n",
       "      <td>803</td>\n",
       "      <td>12.384</td>\n",
       "      <td>3.52</td>\n",
       "      <td>12.300</td>\n",
       "    </tr>\n",
       "  </tbody>\n",
       "</table>\n",
       "</div>"
      ],
      "text/plain": [
       "    year month  Monthly Nominal GDP Index (inMillion$)  \\\n",
       "0  2009    Jan                            14421.752895   \n",
       "1  2009    Feb                            14389.200466   \n",
       "2  2009    Mar                            14340.701639   \n",
       "3  2009    Apr                            14326.815525   \n",
       "4  2009    May                            14345.904809   \n",
       "\n",
       "   Monthly Real GDP Index (inMillion$)      CPI PartyInPower  \\\n",
       "0                         14407.053343  233.402    Democrats   \n",
       "1                         14366.176571  234.663    Democrats   \n",
       "2                         14351.786822  235.067    Democrats   \n",
       "3                         14351.601731  235.582    Democrats   \n",
       "4                         14368.123959  235.975    Democrats   \n",
       "\n",
       "   unemployment rate  CommercialBankInterestRateonCreditCardPlans  \\\n",
       "0                7.8                                        12.03   \n",
       "1                8.3                                        12.97   \n",
       "2                8.7                                        12.97   \n",
       "3                9.0                                        12.97   \n",
       "4                9.4                                        13.32   \n",
       "\n",
       "   Finance Rate on Personal Loans at Commercial Banks, 24 Month Loan  \\\n",
       "0                                              11.44                   \n",
       "1                                              11.05                   \n",
       "2                                              11.05                   \n",
       "3                                              11.05                   \n",
       "4                                              11.25                   \n",
       "\n",
       "   Earnings or wages  in dollars per hour  \\\n",
       "0                                   22.05   \n",
       "1                                   22.22   \n",
       "2                                   22.22   \n",
       "3                                   22.13   \n",
       "4                                   22.04   \n",
       "\n",
       "   AdvertisingExpenses (in Thousand Dollars)  \\\n",
       "0                                      137.0   \n",
       "1                                      200.0   \n",
       "2                                        NaN   \n",
       "3                                      214.0   \n",
       "4                                        NaN   \n",
       "\n",
       "   Cotton Monthly Price - US cents per Pound(lbs)  Change(in%)  \\\n",
       "0                                           57.70         4.02   \n",
       "1                                           55.21        -4.32   \n",
       "2                                           51.50        -6.72   \n",
       "3                                           56.78        10.25   \n",
       "4                                           61.95         9.11   \n",
       "\n",
       "   Average upland planted(million acres)  \\\n",
       "0                                  9.296   \n",
       "1                                  9.296   \n",
       "2                                  9.296   \n",
       "3                                  9.296   \n",
       "4                                  9.297   \n",
       "\n",
       "   Average upland harvested(million acres)  yieldperharvested acre  \\\n",
       "0                                    7.559                     799   \n",
       "1                                    7.559                     799   \n",
       "2                                    7.559                     799   \n",
       "3                                    7.559                     787   \n",
       "4                                    7.400                     803   \n",
       "\n",
       "   Production (in  480-lb netweright in million bales)  \\\n",
       "0                                             12.589     \n",
       "1                                             12.589     \n",
       "2                                             12.589     \n",
       "3                                             12.400     \n",
       "4                                             12.384     \n",
       "\n",
       "   Mill use  (in  480-lb netweright in million bales)  Exports  \n",
       "0                                               4.17    11.550  \n",
       "1                                               3.87    11.100  \n",
       "2                                               3.72    11.650  \n",
       "3                                               3.62    12.225  \n",
       "4                                               3.52    12.300  "
      ]
     },
     "execution_count": 75,
     "metadata": {},
     "output_type": "execute_result"
    }
   ],
   "source": [
    "mc.head()"
   ]
  },
  {
   "cell_type": "code",
   "execution_count": 76,
   "metadata": {},
   "outputs": [],
   "source": [
    "lstmonths=[' Jan', ' Feb', ' Mar', ' Apr', ' May', ' Jun', ' Jul', ' Aug',\n",
    "       ' Sep', ' Oct', ' Nov', ' Dec']\n",
    "j=1\n",
    "for i in lstmonths:\n",
    "    mc['month'].replace(i,j,inplace=True)\n",
    "    j=j+1"
   ]
  },
  {
   "cell_type": "code",
   "execution_count": 77,
   "metadata": {},
   "outputs": [
    {
     "data": {
      "text/plain": [
       "Index(['year', 'PartyInPower'], dtype='object')"
      ]
     },
     "execution_count": 77,
     "metadata": {},
     "output_type": "execute_result"
    }
   ],
   "source": [
    "mc.select_dtypes('object').columns"
   ]
  },
  {
   "cell_type": "code",
   "execution_count": 78,
   "metadata": {},
   "outputs": [
    {
     "data": {
      "text/plain": [
       "Index(['PartyInPower'], dtype='object')"
      ]
     },
     "execution_count": 78,
     "metadata": {},
     "output_type": "execute_result"
    }
   ],
   "source": [
    "mc['year']=mc.year.astype('int64')\n",
    "mc.select_dtypes('object').columns"
   ]
  },
  {
   "cell_type": "code",
   "execution_count": 79,
   "metadata": {},
   "outputs": [
    {
     "data": {
      "text/plain": [
       "array(['Democrats'], dtype=object)"
      ]
     },
     "execution_count": 79,
     "metadata": {},
     "output_type": "execute_result"
    }
   ],
   "source": [
    "mc['PartyInPower'].unique()"
   ]
  },
  {
   "cell_type": "code",
   "execution_count": 80,
   "metadata": {},
   "outputs": [],
   "source": [
    "#  Since there is only one unique column in the PartyIn Power we gotta remove that column\n",
    "mc=mc.drop('PartyInPower',axis=1)"
   ]
  },
  {
   "cell_type": "code",
   "execution_count": 81,
   "metadata": {},
   "outputs": [],
   "source": [
    "comb=pd.merge(mc, cons, left_on=['year','month'], right_on=['Year','Month'])"
   ]
  },
  {
   "cell_type": "code",
   "execution_count": 82,
   "metadata": {},
   "outputs": [
    {
     "data": {
      "text/plain": [
       "(240, 23)"
      ]
     },
     "execution_count": 82,
     "metadata": {},
     "output_type": "execute_result"
    }
   ],
   "source": [
    "comb.shape"
   ]
  },
  {
   "cell_type": "code",
   "execution_count": 83,
   "metadata": {},
   "outputs": [
    {
     "name": "stdout",
     "output_type": "stream",
     "text": [
      "<class 'pandas.core.frame.DataFrame'>\n",
      "Int64Index: 240 entries, 0 to 239\n",
      "Data columns (total 23 columns):\n",
      "year                                                                 240 non-null int64\n",
      "month                                                                240 non-null int64\n",
      "Monthly Nominal GDP Index (inMillion$)                               240 non-null float64\n",
      "Monthly Real GDP Index (inMillion$)                                  240 non-null float64\n",
      "CPI                                                                  240 non-null float64\n",
      "unemployment rate                                                    240 non-null float64\n",
      "CommercialBankInterestRateonCreditCardPlans                          240 non-null float64\n",
      "Finance Rate on Personal Loans at Commercial Banks, 24 Month Loan    240 non-null float64\n",
      "Earnings or wages  in dollars per hour                               240 non-null float64\n",
      "AdvertisingExpenses (in Thousand Dollars)                            28 non-null float64\n",
      "Cotton Monthly Price - US cents per Pound(lbs)                       240 non-null float64\n",
      "Change(in%)                                                          240 non-null float64\n",
      "Average upland planted(million acres)                                240 non-null float64\n",
      "Average upland harvested(million acres)                              240 non-null float64\n",
      "yieldperharvested acre                                               240 non-null int64\n",
      "Production (in  480-lb netweright in million bales)                  240 non-null float64\n",
      "Mill use  (in  480-lb netweright in million bales)                   240 non-null float64\n",
      "Exports                                                              240 non-null float64\n",
      "Year                                                                 240 non-null int64\n",
      "Month                                                                240 non-null int64\n",
      "ProductCategory                                                      240 non-null object\n",
      "Sales(In ThousandDollars)                                            204 non-null float64\n",
      "data                                                                 240 non-null object\n",
      "dtypes: float64(16), int64(5), object(2)\n",
      "memory usage: 45.0+ KB\n"
     ]
    }
   ],
   "source": [
    "comb.info()"
   ]
  },
  {
   "cell_type": "raw",
   "metadata": {},
   "source": [
    "We found there are only 28 values in the Advertising expenses column"
   ]
  },
  {
   "cell_type": "raw",
   "metadata": {},
   "source": [
    "Checking if we can impute the missing values of AdvertisingExpenses (in Thousand Dollars)\n",
    "by linear regression if there is some correlation with predictor variable Sales "
   ]
  },
  {
   "cell_type": "raw",
   "metadata": {},
   "source": [
    "# Selecting only those values where \n",
    "Xa=comb[comb['AdvertisingExpenses (in Thousand Dollars)'].isnull()==False]\n",
    "plt.figure(figsize=(15,15))\n",
    "sns.heatmap(Xa.corr(),annot=True)"
   ]
  },
  {
   "cell_type": "raw",
   "metadata": {},
   "source": [
    "From the above heatmap we can see that there is poor correlation between advertisements and sales i.e.,0.13\n",
    "since its not impacting the sales, its of less importance so we decide to drop it. "
   ]
  },
  {
   "cell_type": "code",
   "execution_count": 84,
   "metadata": {},
   "outputs": [],
   "source": [
    "comb=comb.drop('AdvertisingExpenses (in Thousand Dollars)',axis=1)"
   ]
  },
  {
   "cell_type": "raw",
   "metadata": {},
   "source": [
    "we could see that the year and month columns repeat twice after merging so we gotta delete those extra columns"
   ]
  },
  {
   "cell_type": "code",
   "execution_count": 85,
   "metadata": {},
   "outputs": [],
   "source": [
    "comb.drop(['Year','Month'],inplace=True,axis=1)"
   ]
  },
  {
   "cell_type": "raw",
   "metadata": {},
   "source": [
    "plt.figure(figsize=(15,15))\n",
    "sns.heatmap(comb.corr(),annot=True)"
   ]
  },
  {
   "cell_type": "code",
   "execution_count": 86,
   "metadata": {},
   "outputs": [],
   "source": [
    "comb['year']=comb['year'].astype('object')\n",
    "comb['month']=comb['month'].astype('object')"
   ]
  },
  {
   "cell_type": "code",
   "execution_count": 87,
   "metadata": {},
   "outputs": [],
   "source": [
    "# Storing the combined dataset which is processed into a new variable for further usage\n",
    "comb_other=comb\n",
    "# comb_other.head()"
   ]
  },
  {
   "cell_type": "code",
   "execution_count": 88,
   "metadata": {},
   "outputs": [],
   "source": [
    "# creating one hot encoding for ProductCategory and removing the original column from the dataset\n",
    "obj=comb.select_dtypes('object').columns\n",
    "obj=obj[:-1]\n",
    "dumcols=pd.get_dummies(comb[obj])\n",
    "comb=pd.concat((comb,dumcols),axis=1)\n",
    "comb=comb.drop('ProductCategory',axis=1)\n",
    "comb=comb.drop('year',axis=1)\n",
    "comb=comb.drop('month',axis=1)"
   ]
  },
  {
   "cell_type": "code",
   "execution_count": 89,
   "metadata": {},
   "outputs": [
    {
     "data": {
      "text/plain": [
       "Index(['Monthly Nominal GDP Index (inMillion$)',\n",
       "       'Monthly Real GDP Index (inMillion$)', 'CPI', 'unemployment rate',\n",
       "       'CommercialBankInterestRateonCreditCardPlans',\n",
       "       'Finance Rate on Personal Loans at Commercial Banks, 24 Month Loan',\n",
       "       'Earnings or wages  in dollars per hour',\n",
       "       'Cotton Monthly Price - US cents per Pound(lbs)', 'Change(in%)',\n",
       "       'Average upland planted(million acres)',\n",
       "       'Average upland harvested(million acres)', 'yieldperharvested acre',\n",
       "       'Production (in  480-lb netweright in million bales)',\n",
       "       'Mill use  (in  480-lb netweright in million bales)', 'Exports',\n",
       "       'Sales(In ThousandDollars)', 'data', 'year_2009', 'year_2010',\n",
       "       'year_2011', 'year_2012', 'year_2013', 'year_2014', 'year_2015',\n",
       "       'month_1', 'month_2', 'month_3', 'month_4', 'month_5', 'month_6',\n",
       "       'month_7', 'month_8', 'month_9', 'month_10', 'month_11', 'month_12',\n",
       "       'ProductCategory_MenClothing', 'ProductCategory_OtherClothing',\n",
       "       'ProductCategory_WomenClothing'],\n",
       "      dtype='object')"
      ]
     },
     "execution_count": 89,
     "metadata": {},
     "output_type": "execute_result"
    }
   ],
   "source": [
    "comb_train=comb[comb['data']=='train']\n",
    "comb_train.columns"
   ]
  },
  {
   "cell_type": "code",
   "execution_count": 90,
   "metadata": {},
   "outputs": [],
   "source": [
    "comb_test=comb[comb['data']=='test']"
   ]
  },
  {
   "cell_type": "code",
   "execution_count": 91,
   "metadata": {},
   "outputs": [],
   "source": [
    "comb_train=comb_train.drop('data',axis=1)\n",
    "comb_test=comb_test.drop('data',axis=1)\n",
    "comb_test=comb_test.drop('Sales(In ThousandDollars)',axis=1)\n",
    "# Data Cleaning for the test and train data is completed \n",
    "# we gotta use only the comb_train data for building and  validatingthe model \n",
    "# And the comb_test data for testing"
   ]
  },
  {
   "cell_type": "code",
   "execution_count": 92,
   "metadata": {},
   "outputs": [],
   "source": [
    "X=comb_train.drop('Sales(In ThousandDollars)',axis=1)\n",
    "y=comb_train['Sales(In ThousandDollars)']"
   ]
  },
  {
   "cell_type": "code",
   "execution_count": 93,
   "metadata": {},
   "outputs": [
    {
     "data": {
      "text/html": [
       "<div>\n",
       "<style scoped>\n",
       "    .dataframe tbody tr th:only-of-type {\n",
       "        vertical-align: middle;\n",
       "    }\n",
       "\n",
       "    .dataframe tbody tr th {\n",
       "        vertical-align: top;\n",
       "    }\n",
       "\n",
       "    .dataframe thead th {\n",
       "        text-align: right;\n",
       "    }\n",
       "</style>\n",
       "<table border=\"1\" class=\"dataframe\">\n",
       "  <thead>\n",
       "    <tr style=\"text-align: right;\">\n",
       "      <th></th>\n",
       "      <th>Monthly Nominal GDP Index (inMillion$)</th>\n",
       "      <th>Monthly Real GDP Index (inMillion$)</th>\n",
       "      <th>CPI</th>\n",
       "      <th>unemployment rate</th>\n",
       "      <th>CommercialBankInterestRateonCreditCardPlans</th>\n",
       "      <th>Finance Rate on Personal Loans at Commercial Banks, 24 Month Loan</th>\n",
       "      <th>Earnings or wages  in dollars per hour</th>\n",
       "      <th>Cotton Monthly Price - US cents per Pound(lbs)</th>\n",
       "      <th>Change(in%)</th>\n",
       "      <th>Average upland planted(million acres)</th>\n",
       "      <th>Average upland harvested(million acres)</th>\n",
       "      <th>yieldperharvested acre</th>\n",
       "      <th>Production (in  480-lb netweright in million bales)</th>\n",
       "      <th>Mill use  (in  480-lb netweright in million bales)</th>\n",
       "      <th>Exports</th>\n",
       "      <th>year_2009</th>\n",
       "      <th>year_2010</th>\n",
       "      <th>year_2011</th>\n",
       "      <th>year_2012</th>\n",
       "      <th>year_2013</th>\n",
       "      <th>year_2014</th>\n",
       "      <th>year_2015</th>\n",
       "      <th>month_1</th>\n",
       "      <th>month_2</th>\n",
       "      <th>month_3</th>\n",
       "      <th>month_4</th>\n",
       "      <th>month_5</th>\n",
       "      <th>month_6</th>\n",
       "      <th>month_7</th>\n",
       "      <th>month_8</th>\n",
       "      <th>month_9</th>\n",
       "      <th>month_10</th>\n",
       "      <th>month_11</th>\n",
       "      <th>month_12</th>\n",
       "      <th>ProductCategory_MenClothing</th>\n",
       "      <th>ProductCategory_OtherClothing</th>\n",
       "      <th>ProductCategory_WomenClothing</th>\n",
       "    </tr>\n",
       "  </thead>\n",
       "  <tbody>\n",
       "    <tr>\n",
       "      <th>0</th>\n",
       "      <td>14421.752895</td>\n",
       "      <td>14407.053343</td>\n",
       "      <td>233.402</td>\n",
       "      <td>7.8</td>\n",
       "      <td>12.03</td>\n",
       "      <td>11.44</td>\n",
       "      <td>22.05</td>\n",
       "      <td>57.70</td>\n",
       "      <td>4.02</td>\n",
       "      <td>9.296</td>\n",
       "      <td>7.559</td>\n",
       "      <td>799</td>\n",
       "      <td>12.589</td>\n",
       "      <td>4.17</td>\n",
       "      <td>11.55</td>\n",
       "      <td>1</td>\n",
       "      <td>0</td>\n",
       "      <td>0</td>\n",
       "      <td>0</td>\n",
       "      <td>0</td>\n",
       "      <td>0</td>\n",
       "      <td>0</td>\n",
       "      <td>1</td>\n",
       "      <td>0</td>\n",
       "      <td>0</td>\n",
       "      <td>0</td>\n",
       "      <td>0</td>\n",
       "      <td>0</td>\n",
       "      <td>0</td>\n",
       "      <td>0</td>\n",
       "      <td>0</td>\n",
       "      <td>0</td>\n",
       "      <td>0</td>\n",
       "      <td>0</td>\n",
       "      <td>0</td>\n",
       "      <td>0</td>\n",
       "      <td>1</td>\n",
       "    </tr>\n",
       "    <tr>\n",
       "      <th>1</th>\n",
       "      <td>14421.752895</td>\n",
       "      <td>14407.053343</td>\n",
       "      <td>233.402</td>\n",
       "      <td>7.8</td>\n",
       "      <td>12.03</td>\n",
       "      <td>11.44</td>\n",
       "      <td>22.05</td>\n",
       "      <td>57.70</td>\n",
       "      <td>4.02</td>\n",
       "      <td>9.296</td>\n",
       "      <td>7.559</td>\n",
       "      <td>799</td>\n",
       "      <td>12.589</td>\n",
       "      <td>4.17</td>\n",
       "      <td>11.55</td>\n",
       "      <td>1</td>\n",
       "      <td>0</td>\n",
       "      <td>0</td>\n",
       "      <td>0</td>\n",
       "      <td>0</td>\n",
       "      <td>0</td>\n",
       "      <td>0</td>\n",
       "      <td>1</td>\n",
       "      <td>0</td>\n",
       "      <td>0</td>\n",
       "      <td>0</td>\n",
       "      <td>0</td>\n",
       "      <td>0</td>\n",
       "      <td>0</td>\n",
       "      <td>0</td>\n",
       "      <td>0</td>\n",
       "      <td>0</td>\n",
       "      <td>0</td>\n",
       "      <td>0</td>\n",
       "      <td>1</td>\n",
       "      <td>0</td>\n",
       "      <td>0</td>\n",
       "    </tr>\n",
       "    <tr>\n",
       "      <th>2</th>\n",
       "      <td>14421.752895</td>\n",
       "      <td>14407.053343</td>\n",
       "      <td>233.402</td>\n",
       "      <td>7.8</td>\n",
       "      <td>12.03</td>\n",
       "      <td>11.44</td>\n",
       "      <td>22.05</td>\n",
       "      <td>57.70</td>\n",
       "      <td>4.02</td>\n",
       "      <td>9.296</td>\n",
       "      <td>7.559</td>\n",
       "      <td>799</td>\n",
       "      <td>12.589</td>\n",
       "      <td>4.17</td>\n",
       "      <td>11.55</td>\n",
       "      <td>1</td>\n",
       "      <td>0</td>\n",
       "      <td>0</td>\n",
       "      <td>0</td>\n",
       "      <td>0</td>\n",
       "      <td>0</td>\n",
       "      <td>0</td>\n",
       "      <td>1</td>\n",
       "      <td>0</td>\n",
       "      <td>0</td>\n",
       "      <td>0</td>\n",
       "      <td>0</td>\n",
       "      <td>0</td>\n",
       "      <td>0</td>\n",
       "      <td>0</td>\n",
       "      <td>0</td>\n",
       "      <td>0</td>\n",
       "      <td>0</td>\n",
       "      <td>0</td>\n",
       "      <td>0</td>\n",
       "      <td>1</td>\n",
       "      <td>0</td>\n",
       "    </tr>\n",
       "    <tr>\n",
       "      <th>3</th>\n",
       "      <td>14389.200466</td>\n",
       "      <td>14366.176571</td>\n",
       "      <td>234.663</td>\n",
       "      <td>8.3</td>\n",
       "      <td>12.97</td>\n",
       "      <td>11.05</td>\n",
       "      <td>22.22</td>\n",
       "      <td>55.21</td>\n",
       "      <td>-4.32</td>\n",
       "      <td>9.296</td>\n",
       "      <td>7.559</td>\n",
       "      <td>799</td>\n",
       "      <td>12.589</td>\n",
       "      <td>3.87</td>\n",
       "      <td>11.10</td>\n",
       "      <td>1</td>\n",
       "      <td>0</td>\n",
       "      <td>0</td>\n",
       "      <td>0</td>\n",
       "      <td>0</td>\n",
       "      <td>0</td>\n",
       "      <td>0</td>\n",
       "      <td>0</td>\n",
       "      <td>1</td>\n",
       "      <td>0</td>\n",
       "      <td>0</td>\n",
       "      <td>0</td>\n",
       "      <td>0</td>\n",
       "      <td>0</td>\n",
       "      <td>0</td>\n",
       "      <td>0</td>\n",
       "      <td>0</td>\n",
       "      <td>0</td>\n",
       "      <td>0</td>\n",
       "      <td>0</td>\n",
       "      <td>0</td>\n",
       "      <td>1</td>\n",
       "    </tr>\n",
       "    <tr>\n",
       "      <th>4</th>\n",
       "      <td>14389.200466</td>\n",
       "      <td>14366.176571</td>\n",
       "      <td>234.663</td>\n",
       "      <td>8.3</td>\n",
       "      <td>12.97</td>\n",
       "      <td>11.05</td>\n",
       "      <td>22.22</td>\n",
       "      <td>55.21</td>\n",
       "      <td>-4.32</td>\n",
       "      <td>9.296</td>\n",
       "      <td>7.559</td>\n",
       "      <td>799</td>\n",
       "      <td>12.589</td>\n",
       "      <td>3.87</td>\n",
       "      <td>11.10</td>\n",
       "      <td>1</td>\n",
       "      <td>0</td>\n",
       "      <td>0</td>\n",
       "      <td>0</td>\n",
       "      <td>0</td>\n",
       "      <td>0</td>\n",
       "      <td>0</td>\n",
       "      <td>0</td>\n",
       "      <td>1</td>\n",
       "      <td>0</td>\n",
       "      <td>0</td>\n",
       "      <td>0</td>\n",
       "      <td>0</td>\n",
       "      <td>0</td>\n",
       "      <td>0</td>\n",
       "      <td>0</td>\n",
       "      <td>0</td>\n",
       "      <td>0</td>\n",
       "      <td>0</td>\n",
       "      <td>1</td>\n",
       "      <td>0</td>\n",
       "      <td>0</td>\n",
       "    </tr>\n",
       "  </tbody>\n",
       "</table>\n",
       "</div>"
      ],
      "text/plain": [
       "   Monthly Nominal GDP Index (inMillion$)  \\\n",
       "0                            14421.752895   \n",
       "1                            14421.752895   \n",
       "2                            14421.752895   \n",
       "3                            14389.200466   \n",
       "4                            14389.200466   \n",
       "\n",
       "   Monthly Real GDP Index (inMillion$)      CPI  unemployment rate  \\\n",
       "0                         14407.053343  233.402                7.8   \n",
       "1                         14407.053343  233.402                7.8   \n",
       "2                         14407.053343  233.402                7.8   \n",
       "3                         14366.176571  234.663                8.3   \n",
       "4                         14366.176571  234.663                8.3   \n",
       "\n",
       "   CommercialBankInterestRateonCreditCardPlans  \\\n",
       "0                                        12.03   \n",
       "1                                        12.03   \n",
       "2                                        12.03   \n",
       "3                                        12.97   \n",
       "4                                        12.97   \n",
       "\n",
       "   Finance Rate on Personal Loans at Commercial Banks, 24 Month Loan  \\\n",
       "0                                              11.44                   \n",
       "1                                              11.44                   \n",
       "2                                              11.44                   \n",
       "3                                              11.05                   \n",
       "4                                              11.05                   \n",
       "\n",
       "   Earnings or wages  in dollars per hour  \\\n",
       "0                                   22.05   \n",
       "1                                   22.05   \n",
       "2                                   22.05   \n",
       "3                                   22.22   \n",
       "4                                   22.22   \n",
       "\n",
       "   Cotton Monthly Price - US cents per Pound(lbs)  Change(in%)  \\\n",
       "0                                           57.70         4.02   \n",
       "1                                           57.70         4.02   \n",
       "2                                           57.70         4.02   \n",
       "3                                           55.21        -4.32   \n",
       "4                                           55.21        -4.32   \n",
       "\n",
       "   Average upland planted(million acres)  \\\n",
       "0                                  9.296   \n",
       "1                                  9.296   \n",
       "2                                  9.296   \n",
       "3                                  9.296   \n",
       "4                                  9.296   \n",
       "\n",
       "   Average upland harvested(million acres)  yieldperharvested acre  \\\n",
       "0                                    7.559                     799   \n",
       "1                                    7.559                     799   \n",
       "2                                    7.559                     799   \n",
       "3                                    7.559                     799   \n",
       "4                                    7.559                     799   \n",
       "\n",
       "   Production (in  480-lb netweright in million bales)  \\\n",
       "0                                             12.589     \n",
       "1                                             12.589     \n",
       "2                                             12.589     \n",
       "3                                             12.589     \n",
       "4                                             12.589     \n",
       "\n",
       "   Mill use  (in  480-lb netweright in million bales)  Exports  year_2009  \\\n",
       "0                                               4.17     11.55          1   \n",
       "1                                               4.17     11.55          1   \n",
       "2                                               4.17     11.55          1   \n",
       "3                                               3.87     11.10          1   \n",
       "4                                               3.87     11.10          1   \n",
       "\n",
       "   year_2010  year_2011  year_2012  year_2013  year_2014  year_2015  month_1  \\\n",
       "0          0          0          0          0          0          0        1   \n",
       "1          0          0          0          0          0          0        1   \n",
       "2          0          0          0          0          0          0        1   \n",
       "3          0          0          0          0          0          0        0   \n",
       "4          0          0          0          0          0          0        0   \n",
       "\n",
       "   month_2  month_3  month_4  month_5  month_6  month_7  month_8  month_9  \\\n",
       "0        0        0        0        0        0        0        0        0   \n",
       "1        0        0        0        0        0        0        0        0   \n",
       "2        0        0        0        0        0        0        0        0   \n",
       "3        1        0        0        0        0        0        0        0   \n",
       "4        1        0        0        0        0        0        0        0   \n",
       "\n",
       "   month_10  month_11  month_12  ProductCategory_MenClothing  \\\n",
       "0         0         0         0                            0   \n",
       "1         0         0         0                            1   \n",
       "2         0         0         0                            0   \n",
       "3         0         0         0                            0   \n",
       "4         0         0         0                            1   \n",
       "\n",
       "   ProductCategory_OtherClothing  ProductCategory_WomenClothing  \n",
       "0                              0                              1  \n",
       "1                              0                              0  \n",
       "2                              1                              0  \n",
       "3                              0                              1  \n",
       "4                              0                              0  "
      ]
     },
     "execution_count": 93,
     "metadata": {},
     "output_type": "execute_result"
    }
   ],
   "source": [
    "X.head()"
   ]
  },
  {
   "cell_type": "code",
   "execution_count": 94,
   "metadata": {},
   "outputs": [
    {
     "data": {
      "text/plain": [
       "0    1755.0\n",
       "1     524.0\n",
       "2     936.0\n",
       "3    1729.0\n",
       "4     496.0\n",
       "Name: Sales(In ThousandDollars), dtype: float64"
      ]
     },
     "execution_count": 94,
     "metadata": {},
     "output_type": "execute_result"
    }
   ],
   "source": [
    "y.head()"
   ]
  },
  {
   "cell_type": "raw",
   "metadata": {},
   "source": [
    "sns.pairplot(X)"
   ]
  },
  {
   "cell_type": "code",
   "execution_count": 95,
   "metadata": {},
   "outputs": [
    {
     "data": {
      "text/plain": [
       "Monthly Nominal GDP Index (inMillion$)                               0\n",
       "Monthly Real GDP Index (inMillion$)                                  0\n",
       "CPI                                                                  0\n",
       "unemployment rate                                                    0\n",
       "CommercialBankInterestRateonCreditCardPlans                          0\n",
       "Finance Rate on Personal Loans at Commercial Banks, 24 Month Loan    0\n",
       "Earnings or wages  in dollars per hour                               0\n",
       "Cotton Monthly Price - US cents per Pound(lbs)                       0\n",
       "Change(in%)                                                          0\n",
       "Average upland planted(million acres)                                0\n",
       "Average upland harvested(million acres)                              0\n",
       "yieldperharvested acre                                               0\n",
       "Production (in  480-lb netweright in million bales)                  0\n",
       "Mill use  (in  480-lb netweright in million bales)                   0\n",
       "Exports                                                              0\n",
       "year_2009                                                            0\n",
       "year_2010                                                            0\n",
       "year_2011                                                            0\n",
       "year_2012                                                            0\n",
       "year_2013                                                            0\n",
       "year_2014                                                            0\n",
       "year_2015                                                            0\n",
       "month_1                                                              0\n",
       "month_2                                                              0\n",
       "month_3                                                              0\n",
       "month_4                                                              0\n",
       "month_5                                                              0\n",
       "month_6                                                              0\n",
       "month_7                                                              0\n",
       "month_8                                                              0\n",
       "month_9                                                              0\n",
       "month_10                                                             0\n",
       "month_11                                                             0\n",
       "month_12                                                             0\n",
       "ProductCategory_MenClothing                                          0\n",
       "ProductCategory_OtherClothing                                        0\n",
       "ProductCategory_WomenClothing                                        0\n",
       "dtype: int64"
      ]
     },
     "execution_count": 95,
     "metadata": {},
     "output_type": "execute_result"
    }
   ],
   "source": [
    "X.isnull().sum()"
   ]
  },
  {
   "cell_type": "code",
   "execution_count": 96,
   "metadata": {},
   "outputs": [],
   "source": [
    "from sklearn.model_selection import train_test_split\n",
    "X_train, X_test, y_train, y_test = train_test_split(X, y,random_state = 7,test_size=0.30)"
   ]
  },
  {
   "cell_type": "markdown",
   "metadata": {},
   "source": [
    "### Linear Regression"
   ]
  },
  {
   "cell_type": "code",
   "execution_count": 97,
   "metadata": {},
   "outputs": [],
   "source": [
    "from sklearn.linear_model import LinearRegression\n",
    "lr=LinearRegression()"
   ]
  },
  {
   "cell_type": "code",
   "execution_count": 98,
   "metadata": {},
   "outputs": [
    {
     "data": {
      "text/plain": [
       "LinearRegression(copy_X=True, fit_intercept=True, n_jobs=None, normalize=False)"
      ]
     },
     "execution_count": 98,
     "metadata": {},
     "output_type": "execute_result"
    }
   ],
   "source": [
    "lr.fit(X_train,y_train)"
   ]
  },
  {
   "cell_type": "code",
   "execution_count": 99,
   "metadata": {},
   "outputs": [],
   "source": [
    "y_pred=lr.predict(X_test)"
   ]
  },
  {
   "cell_type": "code",
   "execution_count": 100,
   "metadata": {},
   "outputs": [],
   "source": [
    "from sklearn.metrics import mean_absolute_error\n",
    "from sklearn.metrics import mean_squared_error"
   ]
  },
  {
   "cell_type": "code",
   "execution_count": 101,
   "metadata": {},
   "outputs": [
    {
     "data": {
      "text/plain": [
       "171564.73969767368"
      ]
     },
     "execution_count": 101,
     "metadata": {},
     "output_type": "execute_result"
    }
   ],
   "source": [
    "rmse=mean_squared_error(y_test,y_pred)\n",
    "rmse"
   ]
  },
  {
   "cell_type": "code",
   "execution_count": 102,
   "metadata": {},
   "outputs": [
    {
     "name": "stdout",
     "output_type": "stream",
     "text": [
      "R squared value for Linear Regression model is : 0.9141222588983395\n"
     ]
    }
   ],
   "source": [
    "from sklearn.metrics import r2_score\n",
    "R2_lr=r2_score(y_test,y_pred)\n",
    "print('R squared value for Linear Regression model is :', R2_lr)"
   ]
  },
  {
   "cell_type": "raw",
   "metadata": {},
   "source": [
    "y_pred=pd.DataFrame(y_pred,columns=['Sales'])\n",
    "y_pred.to_csv('EnaSub1.csv')"
   ]
  },
  {
   "cell_type": "markdown",
   "metadata": {},
   "source": [
    "### Random Forest Regressor"
   ]
  },
  {
   "cell_type": "code",
   "execution_count": 103,
   "metadata": {},
   "outputs": [],
   "source": [
    "from sklearn.ensemble import RandomForestRegressor\n",
    "rf=RandomForestRegressor(n_estimators=55,random_state=25)"
   ]
  },
  {
   "cell_type": "code",
   "execution_count": 104,
   "metadata": {},
   "outputs": [
    {
     "data": {
      "text/plain": [
       "RandomForestRegressor(bootstrap=True, criterion='mse', max_depth=None,\n",
       "                      max_features='auto', max_leaf_nodes=None,\n",
       "                      min_impurity_decrease=0.0, min_impurity_split=None,\n",
       "                      min_samples_leaf=1, min_samples_split=2,\n",
       "                      min_weight_fraction_leaf=0.0, n_estimators=55,\n",
       "                      n_jobs=None, oob_score=False, random_state=25, verbose=0,\n",
       "                      warm_start=False)"
      ]
     },
     "execution_count": 104,
     "metadata": {},
     "output_type": "execute_result"
    }
   ],
   "source": [
    "rf.fit(X_train,y_train)"
   ]
  },
  {
   "cell_type": "code",
   "execution_count": 105,
   "metadata": {},
   "outputs": [],
   "source": [
    "y_pred_rf_val=rf.predict(X_test)\n",
    "y_pred_rf_train=rf.predict(X_train)"
   ]
  },
  {
   "cell_type": "code",
   "execution_count": 106,
   "metadata": {},
   "outputs": [
    {
     "data": {
      "text/plain": [
       "0.9911304291614523"
      ]
     },
     "execution_count": 106,
     "metadata": {},
     "output_type": "execute_result"
    }
   ],
   "source": [
    "r2_rfr_TRN=r2_score(y_train,y_pred_rf_train)\n",
    "r2_rfr_TRN"
   ]
  },
  {
   "cell_type": "code",
   "execution_count": 107,
   "metadata": {},
   "outputs": [
    {
     "data": {
      "text/plain": [
       "0.9336700451144155"
      ]
     },
     "execution_count": 107,
     "metadata": {},
     "output_type": "execute_result"
    }
   ],
   "source": [
    "r2_rfr=r2_score(y_test,y_pred_rf_val)\n",
    "r2_rfr"
   ]
  },
  {
   "cell_type": "code",
   "execution_count": 108,
   "metadata": {},
   "outputs": [],
   "source": [
    "y_pred_rfr=rf.predict(comb_test)"
   ]
  },
  {
   "cell_type": "code",
   "execution_count": 109,
   "metadata": {},
   "outputs": [],
   "source": [
    "y_pred_rfr=pd.DataFrame({'S.No.':np.arange(1,37),'Sales':y_pred_rfr})\n",
    "y_pred_rfr.to_csv('EnaSub_rfr.csv')"
   ]
  },
  {
   "cell_type": "markdown",
   "metadata": {},
   "source": [
    "## TOPT Regressor\n",
    "#### Auto ML "
   ]
  },
  {
   "cell_type": "raw",
   "metadata": {},
   "source": [
    "from tpot import TPOTRegressor\n",
    "tpot = TPOTRegressor(generations=7, population_size=20, cv=6,random_state=22, verbosity=2)\n",
    "tpot.fit(X_train, y_train)"
   ]
  },
  {
   "cell_type": "raw",
   "metadata": {},
   "source": [
    "tpot.score(X_test, y_test)"
   ]
  },
  {
   "cell_type": "raw",
   "metadata": {},
   "source": [
    "tpot.export('tpot_pipeline.py')"
   ]
  },
  {
   "cell_type": "raw",
   "metadata": {},
   "source": [
    "y_predtp=tpot.predict(X_test)\n",
    "y_predtpt_trn=tpot.predict(X_train)"
   ]
  },
  {
   "cell_type": "raw",
   "metadata": {},
   "source": [
    "r2_tpt_trn=r2_score(y_train,y_predtpt_trn)\n",
    "r2_tpt_trn"
   ]
  },
  {
   "cell_type": "raw",
   "metadata": {},
   "source": [
    "r2_tpt=r2_score(y_test,y_predtp)\n",
    "rmse_tpt=mean_squared_error(y_test,y_predtp)\n",
    "(np.sqrt(rmse_tpt),r2_tpt)"
   ]
  },
  {
   "cell_type": "raw",
   "metadata": {},
   "source": [
    "y_predtpt=tpot.predict(comb_test)\n",
    "y_predtpt=pd.DataFrame({'S.No.':np.arange(1,37),'Sales':y_predtpt})\n",
    "y_predtpt.to_csv('EnaSub_tpt_2.csv')"
   ]
  },
  {
   "cell_type": "markdown",
   "metadata": {},
   "source": [
    "### XG boost Regressor"
   ]
  },
  {
   "cell_type": "code",
   "execution_count": 110,
   "metadata": {},
   "outputs": [],
   "source": [
    "import xgboost as xgb\n",
    "xg_reg = xgb.XGBRegressor(objective ='reg:linear', learning_rate = 0.5,\n",
    "                max_depth = 5, alpha = 100, n_estimators = 100,booster='gblinear')"
   ]
  },
  {
   "cell_type": "code",
   "execution_count": 111,
   "metadata": {},
   "outputs": [
    {
     "name": "stdout",
     "output_type": "stream",
     "text": [
      "[11:43:46] WARNING: C:/Jenkins/workspace/xgboost-win64_release_0.90/src/objective/regression_obj.cu:152: reg:linear is now deprecated in favor of reg:squarederror.\n"
     ]
    },
    {
     "data": {
      "text/plain": [
       "XGBRegressor(alpha=100, base_score=0.5, booster='gblinear', colsample_bylevel=1,\n",
       "             colsample_bynode=1, colsample_bytree=1, gamma=0,\n",
       "             importance_type='gain', learning_rate=0.5, max_delta_step=0,\n",
       "             max_depth=5, min_child_weight=1, missing=None, n_estimators=100,\n",
       "             n_jobs=1, nthread=None, objective='reg:linear', random_state=0,\n",
       "             reg_alpha=0, reg_lambda=1, scale_pos_weight=1, seed=None,\n",
       "             silent=None, subsample=1, verbosity=1)"
      ]
     },
     "execution_count": 111,
     "metadata": {},
     "output_type": "execute_result"
    }
   ],
   "source": [
    "xg_reg.fit(X_train,y_train)"
   ]
  },
  {
   "cell_type": "code",
   "execution_count": 112,
   "metadata": {},
   "outputs": [],
   "source": [
    "y_pred_xgb = xg_reg.predict(X_test)"
   ]
  },
  {
   "cell_type": "code",
   "execution_count": 113,
   "metadata": {},
   "outputs": [
    {
     "data": {
      "text/plain": [
       "0.28656608159301733"
      ]
     },
     "execution_count": 113,
     "metadata": {},
     "output_type": "execute_result"
    }
   ],
   "source": [
    "r2_xgb=r2_score(y_test,y_pred_xgb)\n",
    "r2_xgb"
   ]
  },
  {
   "cell_type": "markdown",
   "metadata": {},
   "source": [
    "### Adaboost"
   ]
  },
  {
   "cell_type": "code",
   "execution_count": 114,
   "metadata": {},
   "outputs": [],
   "source": [
    "from sklearn.ensemble import AdaBoostRegressor"
   ]
  },
  {
   "cell_type": "code",
   "execution_count": 115,
   "metadata": {},
   "outputs": [],
   "source": [
    "adb=AdaBoostRegressor( base_estimator=None,\n",
    "    n_estimators=50,\n",
    "    learning_rate=0.15,\n",
    "    loss='linear',\n",
    "    random_state=24)"
   ]
  },
  {
   "cell_type": "code",
   "execution_count": 116,
   "metadata": {},
   "outputs": [
    {
     "data": {
      "text/plain": [
       "AdaBoostRegressor(base_estimator=None, learning_rate=0.15, loss='linear',\n",
       "                  n_estimators=50, random_state=24)"
      ]
     },
     "execution_count": 116,
     "metadata": {},
     "output_type": "execute_result"
    }
   ],
   "source": [
    "adb.fit(X_train,y_train)"
   ]
  },
  {
   "cell_type": "code",
   "execution_count": 117,
   "metadata": {},
   "outputs": [],
   "source": [
    "ypredtrn_adb=adb.predict(X_train)\n",
    "ypredtst_adb=adb.predict(X_test)"
   ]
  },
  {
   "cell_type": "code",
   "execution_count": 118,
   "metadata": {},
   "outputs": [
    {
     "name": "stdout",
     "output_type": "stream",
     "text": [
      "trn : 0.972945907781669\n",
      "test : 0.9206814124815329\n"
     ]
    }
   ],
   "source": [
    "r2_xgb_tst=r2_score(y_test,ypredtst_adb)\n",
    "r2_xgb_trn=r2_score(y_train,ypredtrn_adb)\n",
    "print('trn :',r2_xgb_trn)\n",
    "print('test :',r2_xgb_tst)"
   ]
  },
  {
   "cell_type": "markdown",
   "metadata": {},
   "source": [
    "### Loading the Weather dataset "
   ]
  },
  {
   "cell_type": "code",
   "execution_count": 119,
   "metadata": {},
   "outputs": [],
   "source": [
    "wt_2009=pd.read_excel('weather.xlsx',sheet_name='2009',na_values=['-','T'])\n",
    "wt_2010=pd.read_excel('weather.xlsx',sheet_name='2010',na_values=['-','T'])\n",
    "wt_2011=pd.read_excel('weather.xlsx',sheet_name='2011',na_values=['-','T'])\n",
    "wt_2012=pd.read_excel('weather.xlsx',sheet_name='2012',na_values=['-','T'])\n",
    "wt_2013=pd.read_excel('weather.xlsx',sheet_name='2013',na_values=['-','T'])\n",
    "wt_2014=pd.read_excel('weather.xlsx',sheet_name='2014',na_values=['-','T'])\n",
    "wt_2015=pd.read_excel('weather.xlsx',sheet_name='2015',na_values=['-','T'])"
   ]
  },
  {
   "cell_type": "code",
   "execution_count": 120,
   "metadata": {},
   "outputs": [
    {
     "data": {
      "text/html": [
       "<div>\n",
       "<style scoped>\n",
       "    .dataframe tbody tr th:only-of-type {\n",
       "        vertical-align: middle;\n",
       "    }\n",
       "\n",
       "    .dataframe tbody tr th {\n",
       "        vertical-align: top;\n",
       "    }\n",
       "\n",
       "    .dataframe thead th {\n",
       "        text-align: right;\n",
       "    }\n",
       "</style>\n",
       "<table border=\"1\" class=\"dataframe\">\n",
       "  <thead>\n",
       "    <tr style=\"text-align: right;\">\n",
       "      <th></th>\n",
       "      <th>Year</th>\n",
       "      <th>Month</th>\n",
       "      <th>Day</th>\n",
       "      <th>Temp high (°C)</th>\n",
       "      <th>Temp avg (°C)</th>\n",
       "      <th>Temp low (°C)</th>\n",
       "      <th>Dew Point high (°C)</th>\n",
       "      <th>Dew Point avg (°C)</th>\n",
       "      <th>Dew Point low (°C)</th>\n",
       "      <th>Humidity (%) high</th>\n",
       "      <th>Humidity (%) avg</th>\n",
       "      <th>Humidity (%) low</th>\n",
       "      <th>Sea Level Press. (hPa) high</th>\n",
       "      <th>Sea Level Press. (hPa) avg</th>\n",
       "      <th>Sea Level Press. (hPa) low</th>\n",
       "      <th>Visibility (km) high</th>\n",
       "      <th>Visibility (km) avg</th>\n",
       "      <th>Visibility (km) low</th>\n",
       "      <th>Wind (km/h) low</th>\n",
       "      <th>Wind (km/h) avg</th>\n",
       "      <th>Wind (km/h) high</th>\n",
       "      <th>Precip. (mm) sum</th>\n",
       "      <th>WeatherEvent</th>\n",
       "    </tr>\n",
       "  </thead>\n",
       "  <tbody>\n",
       "    <tr>\n",
       "      <th>0</th>\n",
       "      <td>2009</td>\n",
       "      <td>Jan</td>\n",
       "      <td>1</td>\n",
       "      <td>4</td>\n",
       "      <td>1</td>\n",
       "      <td>-3</td>\n",
       "      <td>-8</td>\n",
       "      <td>-12</td>\n",
       "      <td>-14</td>\n",
       "      <td>46</td>\n",
       "      <td>37</td>\n",
       "      <td>27</td>\n",
       "      <td>1022.0</td>\n",
       "      <td>1018.0</td>\n",
       "      <td>1015.0</td>\n",
       "      <td>16.0</td>\n",
       "      <td>16.0</td>\n",
       "      <td>16.0</td>\n",
       "      <td>27.0</td>\n",
       "      <td>11.0</td>\n",
       "      <td>50.0</td>\n",
       "      <td>0.00</td>\n",
       "      <td>NaN</td>\n",
       "    </tr>\n",
       "    <tr>\n",
       "      <th>1</th>\n",
       "      <td>2009</td>\n",
       "      <td>Jan</td>\n",
       "      <td>2</td>\n",
       "      <td>6</td>\n",
       "      <td>4</td>\n",
       "      <td>2</td>\n",
       "      <td>-7</td>\n",
       "      <td>-8</td>\n",
       "      <td>-9</td>\n",
       "      <td>52</td>\n",
       "      <td>43</td>\n",
       "      <td>33</td>\n",
       "      <td>1031.0</td>\n",
       "      <td>1023.0</td>\n",
       "      <td>1016.0</td>\n",
       "      <td>16.0</td>\n",
       "      <td>16.0</td>\n",
       "      <td>16.0</td>\n",
       "      <td>24.0</td>\n",
       "      <td>11.0</td>\n",
       "      <td>40.0</td>\n",
       "      <td>0.00</td>\n",
       "      <td>NaN</td>\n",
       "    </tr>\n",
       "    <tr>\n",
       "      <th>2</th>\n",
       "      <td>2009</td>\n",
       "      <td>Jan</td>\n",
       "      <td>3</td>\n",
       "      <td>6</td>\n",
       "      <td>3</td>\n",
       "      <td>1</td>\n",
       "      <td>4</td>\n",
       "      <td>-2</td>\n",
       "      <td>-9</td>\n",
       "      <td>92</td>\n",
       "      <td>68</td>\n",
       "      <td>44</td>\n",
       "      <td>1036.0</td>\n",
       "      <td>1030.0</td>\n",
       "      <td>1019.0</td>\n",
       "      <td>16.0</td>\n",
       "      <td>7.0</td>\n",
       "      <td>1.0</td>\n",
       "      <td>19.0</td>\n",
       "      <td>10.0</td>\n",
       "      <td>29.0</td>\n",
       "      <td>18.03</td>\n",
       "      <td>Rain , Snow</td>\n",
       "    </tr>\n",
       "    <tr>\n",
       "      <th>3</th>\n",
       "      <td>2009</td>\n",
       "      <td>Jan</td>\n",
       "      <td>4</td>\n",
       "      <td>13</td>\n",
       "      <td>9</td>\n",
       "      <td>5</td>\n",
       "      <td>10</td>\n",
       "      <td>6</td>\n",
       "      <td>-3</td>\n",
       "      <td>93</td>\n",
       "      <td>88</td>\n",
       "      <td>83</td>\n",
       "      <td>1019.0</td>\n",
       "      <td>1012.0</td>\n",
       "      <td>1004.0</td>\n",
       "      <td>16.0</td>\n",
       "      <td>9.0</td>\n",
       "      <td>1.0</td>\n",
       "      <td>47.0</td>\n",
       "      <td>10.0</td>\n",
       "      <td>74.0</td>\n",
       "      <td>7.62</td>\n",
       "      <td>Rain</td>\n",
       "    </tr>\n",
       "    <tr>\n",
       "      <th>4</th>\n",
       "      <td>2009</td>\n",
       "      <td>Jan</td>\n",
       "      <td>5</td>\n",
       "      <td>9</td>\n",
       "      <td>2</td>\n",
       "      <td>-6</td>\n",
       "      <td>-3</td>\n",
       "      <td>-12</td>\n",
       "      <td>-19</td>\n",
       "      <td>49</td>\n",
       "      <td>38</td>\n",
       "      <td>26</td>\n",
       "      <td>1030.0</td>\n",
       "      <td>1020.0</td>\n",
       "      <td>1009.0</td>\n",
       "      <td>16.0</td>\n",
       "      <td>16.0</td>\n",
       "      <td>16.0</td>\n",
       "      <td>39.0</td>\n",
       "      <td>17.0</td>\n",
       "      <td>61.0</td>\n",
       "      <td>0.00</td>\n",
       "      <td>NaN</td>\n",
       "    </tr>\n",
       "  </tbody>\n",
       "</table>\n",
       "</div>"
      ],
      "text/plain": [
       "   Year Month  Day  Temp high (°C)  Temp avg (°C)  Temp low (°C)  \\\n",
       "0  2009   Jan    1               4              1             -3   \n",
       "1  2009   Jan    2               6              4              2   \n",
       "2  2009   Jan    3               6              3              1   \n",
       "3  2009   Jan    4              13              9              5   \n",
       "4  2009   Jan    5               9              2             -6   \n",
       "\n",
       "   Dew Point high (°C)  Dew Point avg (°C)  Dew Point low (°C)  \\\n",
       "0                   -8                 -12                 -14   \n",
       "1                   -7                  -8                  -9   \n",
       "2                    4                  -2                  -9   \n",
       "3                   10                   6                  -3   \n",
       "4                   -3                 -12                 -19   \n",
       "\n",
       "   Humidity (%) high  Humidity (%) avg  Humidity (%) low  \\\n",
       "0                 46                37                27   \n",
       "1                 52                43                33   \n",
       "2                 92                68                44   \n",
       "3                 93                88                83   \n",
       "4                 49                38                26   \n",
       "\n",
       "   Sea Level Press. (hPa) high  Sea Level Press. (hPa) avg  \\\n",
       "0                       1022.0                      1018.0   \n",
       "1                       1031.0                      1023.0   \n",
       "2                       1036.0                      1030.0   \n",
       "3                       1019.0                      1012.0   \n",
       "4                       1030.0                      1020.0   \n",
       "\n",
       "   Sea Level Press. (hPa) low  Visibility (km) high  Visibility (km) avg  \\\n",
       "0                      1015.0                  16.0                 16.0   \n",
       "1                      1016.0                  16.0                 16.0   \n",
       "2                      1019.0                  16.0                  7.0   \n",
       "3                      1004.0                  16.0                  9.0   \n",
       "4                      1009.0                  16.0                 16.0   \n",
       "\n",
       "   Visibility (km) low  Wind (km/h) low  Wind (km/h) avg  Wind (km/h) high  \\\n",
       "0                 16.0             27.0             11.0              50.0   \n",
       "1                 16.0             24.0             11.0              40.0   \n",
       "2                  1.0             19.0             10.0              29.0   \n",
       "3                  1.0             47.0             10.0              74.0   \n",
       "4                 16.0             39.0             17.0              61.0   \n",
       "\n",
       "   Precip. (mm) sum WeatherEvent  \n",
       "0              0.00          NaN  \n",
       "1              0.00          NaN  \n",
       "2             18.03  Rain , Snow  \n",
       "3              7.62         Rain  \n",
       "4              0.00          NaN  "
      ]
     },
     "execution_count": 120,
     "metadata": {},
     "output_type": "execute_result"
    }
   ],
   "source": [
    "wt_2015.head()"
   ]
  },
  {
   "cell_type": "code",
   "execution_count": 121,
   "metadata": {},
   "outputs": [],
   "source": [
    "wt_2010['Year'].replace(2009,2010,inplace=True)\n",
    "wt_2011['Year'].replace(2009,2011,inplace=True)\n",
    "wt_2012['Year'].replace(2009,2012,inplace=True)\n",
    "wt_2013['Year'].replace(2009,2013,inplace=True)\n",
    "wt_2014['Year'].replace(2009,2014,inplace=True)\n",
    "wt_2015['Year'].replace(2009,2015,inplace=True)\n",
    "#  Since there is only one null value with year and month missing we gotta drop that row\n",
    "wt_2014=wt_2014[wt_2014['Year'].isnull()==False].iloc[1:,:]\n",
    "# wt_2014"
   ]
  },
  {
   "cell_type": "code",
   "execution_count": 122,
   "metadata": {},
   "outputs": [],
   "source": [
    "# for the other datasets to join with this we gotta have  the same format for all the months\n",
    "lstmonths=['Jan', 'Feb', 'Mar', 'Apr', 'May', 'Jun', 'Jul', 'Aug','Sep', 'Oct', 'Nov', 'Dec']\n",
    "j=1\n",
    "for i in lstmonths:\n",
    "    wt_2009['Month'].replace(i,j,inplace=True)\n",
    "    wt_2010['Month'].replace(i,j,inplace=True)\n",
    "    wt_2011['Month'].replace(i,j,inplace=True)\n",
    "    wt_2012['Month'].replace(i,j,inplace=True)\n",
    "    wt_2013['Month'].replace(i,j,inplace=True)\n",
    "    wt_2014['Month'].replace(i,j,inplace=True)\n",
    "    wt_2015['Month'].replace(i,j,inplace=True)\n",
    "    j=j+1\n",
    "col1=wt_2014.columns[:-1]\n",
    "for i in col1:\n",
    "    wt_2014[i]=wt_2014[i].astype('float')"
   ]
  },
  {
   "cell_type": "raw",
   "metadata": {},
   "source": [
    "concatenating all the year data to get the consolidated data"
   ]
  },
  {
   "cell_type": "code",
   "execution_count": 123,
   "metadata": {},
   "outputs": [],
   "source": [
    "wt_2009[['Month','Year']]=wt_2009[['Month','Year']].astype('object')\n",
    "wt_2010[['Month','Year']]=wt_2010[['Month','Year']].astype('object')\n",
    "wt_2011[['Month','Year']]=wt_2011[['Month','Year']].astype('object')\n",
    "wt_2012[['Month','Year']]=wt_2012[['Month','Year']].astype('object')\n",
    "wt_2013[['Month','Year']]=wt_2013[['Month','Year']].astype('object')\n",
    "wt_2014[['Month','Year']]=wt_2014[['Month','Year']].astype('object')\n",
    "wt_2015[['Month','Year']]=wt_2015[['Month','Year']].astype('object')"
   ]
  },
  {
   "cell_type": "code",
   "execution_count": 124,
   "metadata": {},
   "outputs": [],
   "source": [
    "wt_2009=wt_2009.drop(['WeatherEvent'],axis=1)\n",
    "wt_2010=wt_2010.drop(['WeatherEvent'],axis=1)\n",
    "wt_2011=wt_2011.drop(['WeatherEvent'],axis=1)\n",
    "wt_2012=wt_2012.drop(['WeatherEvent'],axis=1)\n",
    "wt_2013=wt_2013.drop(['WeatherEvent'],axis=1)\n",
    "wt_2014=wt_2014.drop(['WeatherEvent'],axis=1)\n",
    "wt_2015=wt_2015.drop(['WeatherEvent'],axis=1)"
   ]
  },
  {
   "cell_type": "code",
   "execution_count": 125,
   "metadata": {},
   "outputs": [],
   "source": [
    "cols=wt_2009.columns\n",
    "wt9=wt_2009.groupby(by=['Month'])[cols].mean()\n",
    "wt9['Year']=2009\n",
    "\n",
    "wt10=wt_2010.groupby(by=['Month'])[cols].mean()\n",
    "wt10['Year']=2010\n",
    "\n",
    "wt11=wt_2011.groupby(by=['Month'])[cols].mean()\n",
    "wt11['Year']=2011\n",
    "\n",
    "wt12=wt_2012.groupby(by=['Month'])[cols].mean()\n",
    "wt12['Year']=2012\n",
    "\n",
    "wt13=wt_2013.groupby(by=['Month'])[cols].mean()\n",
    "wt13['Year']=2013\n",
    "\n",
    "wt14=wt_2014.groupby(by=['Month'])[cols].mean()\n",
    "wt14['Year']=2014\n",
    "\n",
    "wt15=wt_2015.groupby(by=['Month'])[cols].mean()\n",
    "wt15['Year']=2015"
   ]
  },
  {
   "cell_type": "code",
   "execution_count": 126,
   "metadata": {},
   "outputs": [],
   "source": [
    "wt=pd.concat((wt9,wt10,wt11,wt12,wt13,wt14,wt15),sort=True)"
   ]
  },
  {
   "cell_type": "code",
   "execution_count": 127,
   "metadata": {},
   "outputs": [],
   "source": [
    "#  reset_index to bring the month to columns which went to index when group by was applied\n",
    "wt=wt.reset_index()"
   ]
  },
  {
   "cell_type": "code",
   "execution_count": 128,
   "metadata": {},
   "outputs": [],
   "source": [
    "#  when converted from index to column it will be int type , so we gotta change it back to object \n",
    "wt['Month']=wt['Month'].astype('object')\n",
    "wt['Year']=wt['Year'].astype('object')"
   ]
  },
  {
   "cell_type": "code",
   "execution_count": 129,
   "metadata": {},
   "outputs": [
    {
     "name": "stdout",
     "output_type": "stream",
     "text": [
      "<class 'pandas.core.frame.DataFrame'>\n",
      "RangeIndex: 84 entries, 0 to 83\n",
      "Data columns (total 22 columns):\n",
      "Month                          84 non-null object\n",
      "Day                            84 non-null float64\n",
      "Dew Point avg (°C)             84 non-null float64\n",
      "Dew Point high (°C)            84 non-null float64\n",
      "Dew Point low (°C)             84 non-null float64\n",
      "Humidity (%) avg               84 non-null float64\n",
      "Humidity (%) high              84 non-null float64\n",
      "Humidity (%) low               84 non-null float64\n",
      "Precip. (mm) sum               84 non-null float64\n",
      "Sea Level Press. (hPa) avg     84 non-null float64\n",
      "Sea Level Press. (hPa) high    84 non-null float64\n",
      "Sea Level Press. (hPa) low     84 non-null float64\n",
      "Temp avg (°C)                  84 non-null float64\n",
      "Temp high (°C)                 84 non-null float64\n",
      "Temp low (°C)                  84 non-null float64\n",
      "Visibility (km) avg            84 non-null float64\n",
      "Visibility (km) high           84 non-null float64\n",
      "Visibility (km) low            84 non-null float64\n",
      "Wind (km/h) avg                84 non-null float64\n",
      "Wind (km/h) high               84 non-null float64\n",
      "Wind (km/h) low                84 non-null float64\n",
      "Year                           84 non-null object\n",
      "dtypes: float64(20), object(2)\n",
      "memory usage: 14.5+ KB\n"
     ]
    }
   ],
   "source": [
    "wt.info()"
   ]
  },
  {
   "cell_type": "raw",
   "metadata": {},
   "source": [
    "wt['Wind\\xa0(km/h) avg'].unique()"
   ]
  },
  {
   "cell_type": "raw",
   "metadata": {},
   "source": [
    "wt.Year.unique()"
   ]
  },
  {
   "cell_type": "raw",
   "metadata": {},
   "source": [
    "since we donot have the day wise data in the train and macro economics we gotta drop that column and we perform our analysis based on year and month wise"
   ]
  },
  {
   "cell_type": "code",
   "execution_count": 130,
   "metadata": {},
   "outputs": [],
   "source": [
    "wt=wt[cols]"
   ]
  },
  {
   "cell_type": "code",
   "execution_count": 131,
   "metadata": {},
   "outputs": [],
   "source": [
    "wt=wt.drop('Day',axis=1)"
   ]
  },
  {
   "cell_type": "raw",
   "metadata": {},
   "source": [
    "for i in wt.columns:\n",
    "    print(i)\n",
    "    print(wt[i].unique(),'\\n')"
   ]
  },
  {
   "cell_type": "code",
   "execution_count": 132,
   "metadata": {},
   "outputs": [
    {
     "data": {
      "text/plain": [
       "Year                           0\n",
       "Month                          0\n",
       "Temp high (°C)                 0\n",
       "Temp avg (°C)                  0\n",
       "Temp low (°C)                  0\n",
       "Dew Point high (°C)            0\n",
       "Dew Point avg (°C)             0\n",
       "Dew Point low (°C)             0\n",
       "Humidity (%) high              0\n",
       "Humidity (%) avg               0\n",
       "Humidity (%) low               0\n",
       "Sea Level Press. (hPa) high    0\n",
       "Sea Level Press. (hPa) avg     0\n",
       "Sea Level Press. (hPa) low     0\n",
       "Visibility (km) high           0\n",
       "Visibility (km) avg            0\n",
       "Visibility (km) low            0\n",
       "Wind (km/h) low                0\n",
       "Wind (km/h) avg                0\n",
       "Wind (km/h) high               0\n",
       "Precip. (mm) sum               0\n",
       "dtype: int64"
      ]
     },
     "execution_count": 132,
     "metadata": {},
     "output_type": "execute_result"
    }
   ],
   "source": [
    "wt.isnull().sum()"
   ]
  },
  {
   "cell_type": "raw",
   "metadata": {},
   "source": [
    "wt is kept undisturbed for further usage"
   ]
  },
  {
   "cell_type": "markdown",
   "metadata": {},
   "source": [
    "### Pandas Profiling"
   ]
  },
  {
   "cell_type": "raw",
   "metadata": {},
   "source": [
    "import pandas_profiling \n",
    "wt.profile_report(style={'full_width':True})\n",
    "profile = wt.profile_report()\n",
    "\n",
    "rejected_variables = profile.get_rejected_variables(threshold=0.9)\n",
    "#  we can remove these rejected_variables those having high correlation \n",
    "profile = wt.profile_report(title='Pandas Profiling Report_walmart')\n",
    "profile.to_file(output_file=\"walmart_pandas_profiling_output.html\")"
   ]
  },
  {
   "cell_type": "raw",
   "metadata": {},
   "source": [
    "import pandas_profiling  as pp\n",
    "pp.ProfileReport(wt)"
   ]
  },
  {
   "cell_type": "code",
   "execution_count": null,
   "metadata": {},
   "outputs": [],
   "source": []
  },
  {
   "cell_type": "raw",
   "metadata": {},
   "source": [
    "cl=wt.columns\n",
    "lll=wt[cl]"
   ]
  },
  {
   "cell_type": "raw",
   "metadata": {},
   "source": [
    "cols_pp=['Year', 'Month', 'Temp_avg_(°C)', 'Dew_Point_avg_(°C)', 'Humidity\\xa0(%)_avg','Sea_Level_Press.\\xa0(hPa)_avg','Visibility\\xa0(km)_high','Visibility\\xa0(km)_avg','Wind\\xa0(km/h)_avg', 'Wind\\xa0(km/h)_high', 'Precip.\\xa0(mm)_sum']"
   ]
  },
  {
   "cell_type": "raw",
   "metadata": {},
   "source": [
    "wt_pp=wt[cols_pp]"
   ]
  },
  {
   "cell_type": "code",
   "execution_count": 133,
   "metadata": {},
   "outputs": [],
   "source": [
    "# Here ends the preprocessing of weather dataset\n",
    "# Here on we continue to dummify the objective columns and remove the originals\n",
    "# Weather dataset after dummification is stored in the new dataset called wtf--> Weather Final\n",
    "\n",
    "wtf=wt"
   ]
  },
  {
   "cell_type": "code",
   "execution_count": 134,
   "metadata": {},
   "outputs": [
    {
     "name": "stdout",
     "output_type": "stream",
     "text": [
      "<class 'pandas.core.frame.DataFrame'>\n",
      "Int64Index: 240 entries, 0 to 239\n",
      "Data columns (total 20 columns):\n",
      "year                                                                 240 non-null object\n",
      "month                                                                240 non-null object\n",
      "Monthly Nominal GDP Index (inMillion$)                               240 non-null float64\n",
      "Monthly Real GDP Index (inMillion$)                                  240 non-null float64\n",
      "CPI                                                                  240 non-null float64\n",
      "unemployment rate                                                    240 non-null float64\n",
      "CommercialBankInterestRateonCreditCardPlans                          240 non-null float64\n",
      "Finance Rate on Personal Loans at Commercial Banks, 24 Month Loan    240 non-null float64\n",
      "Earnings or wages  in dollars per hour                               240 non-null float64\n",
      "Cotton Monthly Price - US cents per Pound(lbs)                       240 non-null float64\n",
      "Change(in%)                                                          240 non-null float64\n",
      "Average upland planted(million acres)                                240 non-null float64\n",
      "Average upland harvested(million acres)                              240 non-null float64\n",
      "yieldperharvested acre                                               240 non-null int64\n",
      "Production (in  480-lb netweright in million bales)                  240 non-null float64\n",
      "Mill use  (in  480-lb netweright in million bales)                   240 non-null float64\n",
      "Exports                                                              240 non-null float64\n",
      "ProductCategory                                                      240 non-null object\n",
      "Sales(In ThousandDollars)                                            204 non-null float64\n",
      "data                                                                 240 non-null object\n",
      "dtypes: float64(15), int64(1), object(4)\n",
      "memory usage: 39.4+ KB\n",
      "<class 'pandas.core.frame.DataFrame'>\n",
      "RangeIndex: 84 entries, 0 to 83\n",
      "Data columns (total 21 columns):\n",
      "Year                           84 non-null object\n",
      "Month                          84 non-null object\n",
      "Temp high (°C)                 84 non-null float64\n",
      "Temp avg (°C)                  84 non-null float64\n",
      "Temp low (°C)                  84 non-null float64\n",
      "Dew Point high (°C)            84 non-null float64\n",
      "Dew Point avg (°C)             84 non-null float64\n",
      "Dew Point low (°C)             84 non-null float64\n",
      "Humidity (%) high              84 non-null float64\n",
      "Humidity (%) avg               84 non-null float64\n",
      "Humidity (%) low               84 non-null float64\n",
      "Sea Level Press. (hPa) high    84 non-null float64\n",
      "Sea Level Press. (hPa) avg     84 non-null float64\n",
      "Sea Level Press. (hPa) low     84 non-null float64\n",
      "Visibility (km) high           84 non-null float64\n",
      "Visibility (km) avg            84 non-null float64\n",
      "Visibility (km) low            84 non-null float64\n",
      "Wind (km/h) low                84 non-null float64\n",
      "Wind (km/h) avg                84 non-null float64\n",
      "Wind (km/h) high               84 non-null float64\n",
      "Precip. (mm) sum               84 non-null float64\n",
      "dtypes: float64(19), object(2)\n",
      "memory usage: 13.9+ KB\n"
     ]
    }
   ],
   "source": [
    "# Now combing the wtf and comb_other for further calculations\n",
    "comb_other.info()\n",
    "wt.info()"
   ]
  },
  {
   "cell_type": "code",
   "execution_count": 135,
   "metadata": {
    "scrolled": true
   },
   "outputs": [
    {
     "data": {
      "text/html": [
       "<div>\n",
       "<style scoped>\n",
       "    .dataframe tbody tr th:only-of-type {\n",
       "        vertical-align: middle;\n",
       "    }\n",
       "\n",
       "    .dataframe tbody tr th {\n",
       "        vertical-align: top;\n",
       "    }\n",
       "\n",
       "    .dataframe thead th {\n",
       "        text-align: right;\n",
       "    }\n",
       "</style>\n",
       "<table border=\"1\" class=\"dataframe\">\n",
       "  <thead>\n",
       "    <tr style=\"text-align: right;\">\n",
       "      <th></th>\n",
       "      <th>Year</th>\n",
       "      <th>Month</th>\n",
       "      <th>Temp high (°C)</th>\n",
       "      <th>Temp avg (°C)</th>\n",
       "      <th>Temp low (°C)</th>\n",
       "      <th>Dew Point high (°C)</th>\n",
       "      <th>Dew Point avg (°C)</th>\n",
       "      <th>Dew Point low (°C)</th>\n",
       "      <th>Humidity (%) high</th>\n",
       "      <th>Humidity (%) avg</th>\n",
       "      <th>Humidity (%) low</th>\n",
       "      <th>Sea Level Press. (hPa) high</th>\n",
       "      <th>Sea Level Press. (hPa) avg</th>\n",
       "      <th>Sea Level Press. (hPa) low</th>\n",
       "      <th>Visibility (km) high</th>\n",
       "      <th>Visibility (km) avg</th>\n",
       "      <th>Visibility (km) low</th>\n",
       "      <th>Wind (km/h) low</th>\n",
       "      <th>Wind (km/h) avg</th>\n",
       "      <th>Wind (km/h) high</th>\n",
       "      <th>Precip. (mm) sum</th>\n",
       "    </tr>\n",
       "  </thead>\n",
       "  <tbody>\n",
       "    <tr>\n",
       "      <th>0</th>\n",
       "      <td>2009</td>\n",
       "      <td>1</td>\n",
       "      <td>0.741935</td>\n",
       "      <td>-2.096774</td>\n",
       "      <td>-5.322581</td>\n",
       "      <td>-6.096774</td>\n",
       "      <td>-9.903226</td>\n",
       "      <td>-14.000000</td>\n",
       "      <td>71.774194</td>\n",
       "      <td>57.354839</td>\n",
       "      <td>42.322581</td>\n",
       "      <td>1021.290323</td>\n",
       "      <td>1015.967742</td>\n",
       "      <td>1010.516129</td>\n",
       "      <td>16.000000</td>\n",
       "      <td>14.000000</td>\n",
       "      <td>11.451613</td>\n",
       "      <td>27.000000</td>\n",
       "      <td>12.000000</td>\n",
       "      <td>39.322581</td>\n",
       "      <td>2.803704</td>\n",
       "    </tr>\n",
       "    <tr>\n",
       "      <th>1</th>\n",
       "      <td>2009</td>\n",
       "      <td>2</td>\n",
       "      <td>6.964286</td>\n",
       "      <td>2.785714</td>\n",
       "      <td>-1.642857</td>\n",
       "      <td>-2.464286</td>\n",
       "      <td>-6.392857</td>\n",
       "      <td>-10.571429</td>\n",
       "      <td>69.535714</td>\n",
       "      <td>54.000000</td>\n",
       "      <td>38.107143</td>\n",
       "      <td>1021.714286</td>\n",
       "      <td>1017.071429</td>\n",
       "      <td>1012.464286</td>\n",
       "      <td>16.000000</td>\n",
       "      <td>15.178571</td>\n",
       "      <td>13.285714</td>\n",
       "      <td>27.928571</td>\n",
       "      <td>12.214286</td>\n",
       "      <td>41.642857</td>\n",
       "      <td>0.840385</td>\n",
       "    </tr>\n",
       "    <tr>\n",
       "      <th>2</th>\n",
       "      <td>2009</td>\n",
       "      <td>3</td>\n",
       "      <td>9.838710</td>\n",
       "      <td>5.967742</td>\n",
       "      <td>1.774194</td>\n",
       "      <td>0.258065</td>\n",
       "      <td>-2.903226</td>\n",
       "      <td>-6.741935</td>\n",
       "      <td>74.096774</td>\n",
       "      <td>57.064516</td>\n",
       "      <td>39.548387</td>\n",
       "      <td>1025.096774</td>\n",
       "      <td>1021.064516</td>\n",
       "      <td>1017.032258</td>\n",
       "      <td>16.000000</td>\n",
       "      <td>14.258065</td>\n",
       "      <td>10.677419</td>\n",
       "      <td>27.000000</td>\n",
       "      <td>11.387097</td>\n",
       "      <td>38.612903</td>\n",
       "      <td>1.481667</td>\n",
       "    </tr>\n",
       "    <tr>\n",
       "      <th>3</th>\n",
       "      <td>2009</td>\n",
       "      <td>4</td>\n",
       "      <td>17.100000</td>\n",
       "      <td>12.733333</td>\n",
       "      <td>7.833333</td>\n",
       "      <td>6.233333</td>\n",
       "      <td>2.533333</td>\n",
       "      <td>-1.200000</td>\n",
       "      <td>75.466667</td>\n",
       "      <td>55.700000</td>\n",
       "      <td>35.733333</td>\n",
       "      <td>1018.833333</td>\n",
       "      <td>1014.533333</td>\n",
       "      <td>1010.433333</td>\n",
       "      <td>15.900000</td>\n",
       "      <td>14.066667</td>\n",
       "      <td>10.866667</td>\n",
       "      <td>27.300000</td>\n",
       "      <td>11.366667</td>\n",
       "      <td>39.566667</td>\n",
       "      <td>4.411852</td>\n",
       "    </tr>\n",
       "    <tr>\n",
       "      <th>4</th>\n",
       "      <td>2009</td>\n",
       "      <td>5</td>\n",
       "      <td>21.354839</td>\n",
       "      <td>17.000000</td>\n",
       "      <td>12.483871</td>\n",
       "      <td>12.967742</td>\n",
       "      <td>10.096774</td>\n",
       "      <td>6.516129</td>\n",
       "      <td>85.645161</td>\n",
       "      <td>68.516129</td>\n",
       "      <td>50.935484</td>\n",
       "      <td>1020.419355</td>\n",
       "      <td>1017.161290</td>\n",
       "      <td>1014.129032</td>\n",
       "      <td>15.903226</td>\n",
       "      <td>12.451613</td>\n",
       "      <td>9.000000</td>\n",
       "      <td>22.379310</td>\n",
       "      <td>8.000000</td>\n",
       "      <td>32.620690</td>\n",
       "      <td>4.527586</td>\n",
       "    </tr>\n",
       "  </tbody>\n",
       "</table>\n",
       "</div>"
      ],
      "text/plain": [
       "   Year Month  Temp high (°C)  Temp avg (°C)  Temp low (°C)  \\\n",
       "0  2009     1        0.741935      -2.096774      -5.322581   \n",
       "1  2009     2        6.964286       2.785714      -1.642857   \n",
       "2  2009     3        9.838710       5.967742       1.774194   \n",
       "3  2009     4       17.100000      12.733333       7.833333   \n",
       "4  2009     5       21.354839      17.000000      12.483871   \n",
       "\n",
       "   Dew Point high (°C)  Dew Point avg (°C)  Dew Point low (°C)  \\\n",
       "0            -6.096774           -9.903226          -14.000000   \n",
       "1            -2.464286           -6.392857          -10.571429   \n",
       "2             0.258065           -2.903226           -6.741935   \n",
       "3             6.233333            2.533333           -1.200000   \n",
       "4            12.967742           10.096774            6.516129   \n",
       "\n",
       "   Humidity (%) high  Humidity (%) avg  Humidity (%) low  \\\n",
       "0          71.774194         57.354839         42.322581   \n",
       "1          69.535714         54.000000         38.107143   \n",
       "2          74.096774         57.064516         39.548387   \n",
       "3          75.466667         55.700000         35.733333   \n",
       "4          85.645161         68.516129         50.935484   \n",
       "\n",
       "   Sea Level Press. (hPa) high  Sea Level Press. (hPa) avg  \\\n",
       "0                  1021.290323                 1015.967742   \n",
       "1                  1021.714286                 1017.071429   \n",
       "2                  1025.096774                 1021.064516   \n",
       "3                  1018.833333                 1014.533333   \n",
       "4                  1020.419355                 1017.161290   \n",
       "\n",
       "   Sea Level Press. (hPa) low  Visibility (km) high  Visibility (km) avg  \\\n",
       "0                 1010.516129             16.000000            14.000000   \n",
       "1                 1012.464286             16.000000            15.178571   \n",
       "2                 1017.032258             16.000000            14.258065   \n",
       "3                 1010.433333             15.900000            14.066667   \n",
       "4                 1014.129032             15.903226            12.451613   \n",
       "\n",
       "   Visibility (km) low  Wind (km/h) low  Wind (km/h) avg  Wind (km/h) high  \\\n",
       "0            11.451613        27.000000        12.000000         39.322581   \n",
       "1            13.285714        27.928571        12.214286         41.642857   \n",
       "2            10.677419        27.000000        11.387097         38.612903   \n",
       "3            10.866667        27.300000        11.366667         39.566667   \n",
       "4             9.000000        22.379310         8.000000         32.620690   \n",
       "\n",
       "   Precip. (mm) sum  \n",
       "0          2.803704  \n",
       "1          0.840385  \n",
       "2          1.481667  \n",
       "3          4.411852  \n",
       "4          4.527586  "
      ]
     },
     "execution_count": 135,
     "metadata": {},
     "output_type": "execute_result"
    }
   ],
   "source": [
    "wtf.head()"
   ]
  },
  {
   "cell_type": "code",
   "execution_count": 136,
   "metadata": {},
   "outputs": [],
   "source": [
    "comb_other.rename(columns={'year':'Year','month':'Month'},inplace=True)"
   ]
  },
  {
   "cell_type": "raw",
   "metadata": {},
   "source": [
    "comb_other['Year'].unique()"
   ]
  },
  {
   "cell_type": "code",
   "execution_count": 137,
   "metadata": {},
   "outputs": [],
   "source": [
    "comb_wtf=pd.merge(comb_other, wtf, left_on=['Year','Month'], right_on=['Year','Month'])"
   ]
  },
  {
   "cell_type": "code",
   "execution_count": 138,
   "metadata": {},
   "outputs": [
    {
     "data": {
      "text/plain": [
       "Index(['Year', 'Month', 'Monthly Nominal GDP Index (inMillion$)',\n",
       "       'Monthly Real GDP Index (inMillion$)', 'CPI', 'unemployment rate',\n",
       "       'CommercialBankInterestRateonCreditCardPlans',\n",
       "       'Finance Rate on Personal Loans at Commercial Banks, 24 Month Loan',\n",
       "       'Earnings or wages  in dollars per hour',\n",
       "       'Cotton Monthly Price - US cents per Pound(lbs)', 'Change(in%)',\n",
       "       'Average upland planted(million acres)',\n",
       "       'Average upland harvested(million acres)', 'yieldperharvested acre',\n",
       "       'Production (in  480-lb netweright in million bales)',\n",
       "       'Mill use  (in  480-lb netweright in million bales)', 'Exports',\n",
       "       'ProductCategory', 'Sales(In ThousandDollars)', 'data',\n",
       "       'Temp high (°C)', 'Temp avg (°C)', 'Temp low (°C)',\n",
       "       'Dew Point high (°C)', 'Dew Point avg (°C)', 'Dew Point low (°C)',\n",
       "       'Humidity (%) high', 'Humidity (%) avg', 'Humidity (%) low',\n",
       "       'Sea Level Press. (hPa) high', 'Sea Level Press. (hPa) avg',\n",
       "       'Sea Level Press. (hPa) low', 'Visibility (km) high',\n",
       "       'Visibility (km) avg', 'Visibility (km) low', 'Wind (km/h) low',\n",
       "       'Wind (km/h) avg', 'Wind (km/h) high', 'Precip. (mm) sum'],\n",
       "      dtype='object')"
      ]
     },
     "execution_count": 138,
     "metadata": {},
     "output_type": "execute_result"
    }
   ],
   "source": [
    "comb_wtf.columns"
   ]
  },
  {
   "cell_type": "code",
   "execution_count": 139,
   "metadata": {},
   "outputs": [],
   "source": [
    "obj2=comb_wtf.select_dtypes('object').columns\n",
    "obj2=obj2[:-1] # Excluding the data column"
   ]
  },
  {
   "cell_type": "code",
   "execution_count": 140,
   "metadata": {},
   "outputs": [
    {
     "data": {
      "text/plain": [
       "Index(['Year', 'Month', 'ProductCategory'], dtype='object')"
      ]
     },
     "execution_count": 140,
     "metadata": {},
     "output_type": "execute_result"
    }
   ],
   "source": [
    "obj2"
   ]
  },
  {
   "cell_type": "code",
   "execution_count": 141,
   "metadata": {},
   "outputs": [],
   "source": [
    "dumcols2=pd.get_dummies(comb_wtf[obj2])\n",
    "# dumcols2"
   ]
  },
  {
   "cell_type": "code",
   "execution_count": 142,
   "metadata": {},
   "outputs": [],
   "source": [
    "comb_wtf=pd.concat((comb_wtf,dumcols2),axis=1)"
   ]
  },
  {
   "cell_type": "code",
   "execution_count": 143,
   "metadata": {},
   "outputs": [],
   "source": [
    "comb_wtf=comb_wtf.drop(obj2,axis=1)"
   ]
  },
  {
   "cell_type": "code",
   "execution_count": 144,
   "metadata": {},
   "outputs": [
    {
     "data": {
      "text/html": [
       "<div>\n",
       "<style scoped>\n",
       "    .dataframe tbody tr th:only-of-type {\n",
       "        vertical-align: middle;\n",
       "    }\n",
       "\n",
       "    .dataframe tbody tr th {\n",
       "        vertical-align: top;\n",
       "    }\n",
       "\n",
       "    .dataframe thead th {\n",
       "        text-align: right;\n",
       "    }\n",
       "</style>\n",
       "<table border=\"1\" class=\"dataframe\">\n",
       "  <thead>\n",
       "    <tr style=\"text-align: right;\">\n",
       "      <th></th>\n",
       "      <th>Monthly Nominal GDP Index (inMillion$)</th>\n",
       "      <th>Monthly Real GDP Index (inMillion$)</th>\n",
       "      <th>CPI</th>\n",
       "      <th>unemployment rate</th>\n",
       "      <th>CommercialBankInterestRateonCreditCardPlans</th>\n",
       "      <th>Finance Rate on Personal Loans at Commercial Banks, 24 Month Loan</th>\n",
       "      <th>Earnings or wages  in dollars per hour</th>\n",
       "      <th>Cotton Monthly Price - US cents per Pound(lbs)</th>\n",
       "      <th>Change(in%)</th>\n",
       "      <th>Average upland planted(million acres)</th>\n",
       "      <th>Average upland harvested(million acres)</th>\n",
       "      <th>yieldperharvested acre</th>\n",
       "      <th>Production (in  480-lb netweright in million bales)</th>\n",
       "      <th>Mill use  (in  480-lb netweright in million bales)</th>\n",
       "      <th>Exports</th>\n",
       "      <th>Sales(In ThousandDollars)</th>\n",
       "      <th>data</th>\n",
       "      <th>Temp high (°C)</th>\n",
       "      <th>Temp avg (°C)</th>\n",
       "      <th>Temp low (°C)</th>\n",
       "      <th>Dew Point high (°C)</th>\n",
       "      <th>Dew Point avg (°C)</th>\n",
       "      <th>Dew Point low (°C)</th>\n",
       "      <th>Humidity (%) high</th>\n",
       "      <th>Humidity (%) avg</th>\n",
       "      <th>Humidity (%) low</th>\n",
       "      <th>Sea Level Press. (hPa) high</th>\n",
       "      <th>Sea Level Press. (hPa) avg</th>\n",
       "      <th>Sea Level Press. (hPa) low</th>\n",
       "      <th>Visibility (km) high</th>\n",
       "      <th>Visibility (km) avg</th>\n",
       "      <th>Visibility (km) low</th>\n",
       "      <th>Wind (km/h) low</th>\n",
       "      <th>Wind (km/h) avg</th>\n",
       "      <th>Wind (km/h) high</th>\n",
       "      <th>Precip. (mm) sum</th>\n",
       "      <th>Year_2009</th>\n",
       "      <th>Year_2010</th>\n",
       "      <th>Year_2011</th>\n",
       "      <th>Year_2012</th>\n",
       "      <th>Year_2013</th>\n",
       "      <th>Year_2014</th>\n",
       "      <th>Year_2015</th>\n",
       "      <th>Month_1</th>\n",
       "      <th>Month_2</th>\n",
       "      <th>Month_3</th>\n",
       "      <th>Month_4</th>\n",
       "      <th>Month_5</th>\n",
       "      <th>Month_6</th>\n",
       "      <th>Month_7</th>\n",
       "      <th>Month_8</th>\n",
       "      <th>Month_9</th>\n",
       "      <th>Month_10</th>\n",
       "      <th>Month_11</th>\n",
       "      <th>Month_12</th>\n",
       "      <th>ProductCategory_MenClothing</th>\n",
       "      <th>ProductCategory_OtherClothing</th>\n",
       "      <th>ProductCategory_WomenClothing</th>\n",
       "    </tr>\n",
       "  </thead>\n",
       "  <tbody>\n",
       "    <tr>\n",
       "      <th>0</th>\n",
       "      <td>14421.752895</td>\n",
       "      <td>14407.053343</td>\n",
       "      <td>233.402</td>\n",
       "      <td>7.8</td>\n",
       "      <td>12.03</td>\n",
       "      <td>11.44</td>\n",
       "      <td>22.05</td>\n",
       "      <td>57.70</td>\n",
       "      <td>4.02</td>\n",
       "      <td>9.296</td>\n",
       "      <td>7.559</td>\n",
       "      <td>799</td>\n",
       "      <td>12.589</td>\n",
       "      <td>4.17</td>\n",
       "      <td>11.55</td>\n",
       "      <td>1755.0</td>\n",
       "      <td>train</td>\n",
       "      <td>0.741935</td>\n",
       "      <td>-2.096774</td>\n",
       "      <td>-5.322581</td>\n",
       "      <td>-6.096774</td>\n",
       "      <td>-9.903226</td>\n",
       "      <td>-14.000000</td>\n",
       "      <td>71.774194</td>\n",
       "      <td>57.354839</td>\n",
       "      <td>42.322581</td>\n",
       "      <td>1021.290323</td>\n",
       "      <td>1015.967742</td>\n",
       "      <td>1010.516129</td>\n",
       "      <td>16.0</td>\n",
       "      <td>14.000000</td>\n",
       "      <td>11.451613</td>\n",
       "      <td>27.000000</td>\n",
       "      <td>12.000000</td>\n",
       "      <td>39.322581</td>\n",
       "      <td>2.803704</td>\n",
       "      <td>1</td>\n",
       "      <td>0</td>\n",
       "      <td>0</td>\n",
       "      <td>0</td>\n",
       "      <td>0</td>\n",
       "      <td>0</td>\n",
       "      <td>0</td>\n",
       "      <td>1</td>\n",
       "      <td>0</td>\n",
       "      <td>0</td>\n",
       "      <td>0</td>\n",
       "      <td>0</td>\n",
       "      <td>0</td>\n",
       "      <td>0</td>\n",
       "      <td>0</td>\n",
       "      <td>0</td>\n",
       "      <td>0</td>\n",
       "      <td>0</td>\n",
       "      <td>0</td>\n",
       "      <td>0</td>\n",
       "      <td>0</td>\n",
       "      <td>1</td>\n",
       "    </tr>\n",
       "    <tr>\n",
       "      <th>1</th>\n",
       "      <td>14421.752895</td>\n",
       "      <td>14407.053343</td>\n",
       "      <td>233.402</td>\n",
       "      <td>7.8</td>\n",
       "      <td>12.03</td>\n",
       "      <td>11.44</td>\n",
       "      <td>22.05</td>\n",
       "      <td>57.70</td>\n",
       "      <td>4.02</td>\n",
       "      <td>9.296</td>\n",
       "      <td>7.559</td>\n",
       "      <td>799</td>\n",
       "      <td>12.589</td>\n",
       "      <td>4.17</td>\n",
       "      <td>11.55</td>\n",
       "      <td>524.0</td>\n",
       "      <td>train</td>\n",
       "      <td>0.741935</td>\n",
       "      <td>-2.096774</td>\n",
       "      <td>-5.322581</td>\n",
       "      <td>-6.096774</td>\n",
       "      <td>-9.903226</td>\n",
       "      <td>-14.000000</td>\n",
       "      <td>71.774194</td>\n",
       "      <td>57.354839</td>\n",
       "      <td>42.322581</td>\n",
       "      <td>1021.290323</td>\n",
       "      <td>1015.967742</td>\n",
       "      <td>1010.516129</td>\n",
       "      <td>16.0</td>\n",
       "      <td>14.000000</td>\n",
       "      <td>11.451613</td>\n",
       "      <td>27.000000</td>\n",
       "      <td>12.000000</td>\n",
       "      <td>39.322581</td>\n",
       "      <td>2.803704</td>\n",
       "      <td>1</td>\n",
       "      <td>0</td>\n",
       "      <td>0</td>\n",
       "      <td>0</td>\n",
       "      <td>0</td>\n",
       "      <td>0</td>\n",
       "      <td>0</td>\n",
       "      <td>1</td>\n",
       "      <td>0</td>\n",
       "      <td>0</td>\n",
       "      <td>0</td>\n",
       "      <td>0</td>\n",
       "      <td>0</td>\n",
       "      <td>0</td>\n",
       "      <td>0</td>\n",
       "      <td>0</td>\n",
       "      <td>0</td>\n",
       "      <td>0</td>\n",
       "      <td>0</td>\n",
       "      <td>1</td>\n",
       "      <td>0</td>\n",
       "      <td>0</td>\n",
       "    </tr>\n",
       "    <tr>\n",
       "      <th>2</th>\n",
       "      <td>14421.752895</td>\n",
       "      <td>14407.053343</td>\n",
       "      <td>233.402</td>\n",
       "      <td>7.8</td>\n",
       "      <td>12.03</td>\n",
       "      <td>11.44</td>\n",
       "      <td>22.05</td>\n",
       "      <td>57.70</td>\n",
       "      <td>4.02</td>\n",
       "      <td>9.296</td>\n",
       "      <td>7.559</td>\n",
       "      <td>799</td>\n",
       "      <td>12.589</td>\n",
       "      <td>4.17</td>\n",
       "      <td>11.55</td>\n",
       "      <td>936.0</td>\n",
       "      <td>train</td>\n",
       "      <td>0.741935</td>\n",
       "      <td>-2.096774</td>\n",
       "      <td>-5.322581</td>\n",
       "      <td>-6.096774</td>\n",
       "      <td>-9.903226</td>\n",
       "      <td>-14.000000</td>\n",
       "      <td>71.774194</td>\n",
       "      <td>57.354839</td>\n",
       "      <td>42.322581</td>\n",
       "      <td>1021.290323</td>\n",
       "      <td>1015.967742</td>\n",
       "      <td>1010.516129</td>\n",
       "      <td>16.0</td>\n",
       "      <td>14.000000</td>\n",
       "      <td>11.451613</td>\n",
       "      <td>27.000000</td>\n",
       "      <td>12.000000</td>\n",
       "      <td>39.322581</td>\n",
       "      <td>2.803704</td>\n",
       "      <td>1</td>\n",
       "      <td>0</td>\n",
       "      <td>0</td>\n",
       "      <td>0</td>\n",
       "      <td>0</td>\n",
       "      <td>0</td>\n",
       "      <td>0</td>\n",
       "      <td>1</td>\n",
       "      <td>0</td>\n",
       "      <td>0</td>\n",
       "      <td>0</td>\n",
       "      <td>0</td>\n",
       "      <td>0</td>\n",
       "      <td>0</td>\n",
       "      <td>0</td>\n",
       "      <td>0</td>\n",
       "      <td>0</td>\n",
       "      <td>0</td>\n",
       "      <td>0</td>\n",
       "      <td>0</td>\n",
       "      <td>1</td>\n",
       "      <td>0</td>\n",
       "    </tr>\n",
       "    <tr>\n",
       "      <th>3</th>\n",
       "      <td>14389.200466</td>\n",
       "      <td>14366.176571</td>\n",
       "      <td>234.663</td>\n",
       "      <td>8.3</td>\n",
       "      <td>12.97</td>\n",
       "      <td>11.05</td>\n",
       "      <td>22.22</td>\n",
       "      <td>55.21</td>\n",
       "      <td>-4.32</td>\n",
       "      <td>9.296</td>\n",
       "      <td>7.559</td>\n",
       "      <td>799</td>\n",
       "      <td>12.589</td>\n",
       "      <td>3.87</td>\n",
       "      <td>11.10</td>\n",
       "      <td>1729.0</td>\n",
       "      <td>train</td>\n",
       "      <td>6.964286</td>\n",
       "      <td>2.785714</td>\n",
       "      <td>-1.642857</td>\n",
       "      <td>-2.464286</td>\n",
       "      <td>-6.392857</td>\n",
       "      <td>-10.571429</td>\n",
       "      <td>69.535714</td>\n",
       "      <td>54.000000</td>\n",
       "      <td>38.107143</td>\n",
       "      <td>1021.714286</td>\n",
       "      <td>1017.071429</td>\n",
       "      <td>1012.464286</td>\n",
       "      <td>16.0</td>\n",
       "      <td>15.178571</td>\n",
       "      <td>13.285714</td>\n",
       "      <td>27.928571</td>\n",
       "      <td>12.214286</td>\n",
       "      <td>41.642857</td>\n",
       "      <td>0.840385</td>\n",
       "      <td>1</td>\n",
       "      <td>0</td>\n",
       "      <td>0</td>\n",
       "      <td>0</td>\n",
       "      <td>0</td>\n",
       "      <td>0</td>\n",
       "      <td>0</td>\n",
       "      <td>0</td>\n",
       "      <td>1</td>\n",
       "      <td>0</td>\n",
       "      <td>0</td>\n",
       "      <td>0</td>\n",
       "      <td>0</td>\n",
       "      <td>0</td>\n",
       "      <td>0</td>\n",
       "      <td>0</td>\n",
       "      <td>0</td>\n",
       "      <td>0</td>\n",
       "      <td>0</td>\n",
       "      <td>0</td>\n",
       "      <td>0</td>\n",
       "      <td>1</td>\n",
       "    </tr>\n",
       "    <tr>\n",
       "      <th>4</th>\n",
       "      <td>14389.200466</td>\n",
       "      <td>14366.176571</td>\n",
       "      <td>234.663</td>\n",
       "      <td>8.3</td>\n",
       "      <td>12.97</td>\n",
       "      <td>11.05</td>\n",
       "      <td>22.22</td>\n",
       "      <td>55.21</td>\n",
       "      <td>-4.32</td>\n",
       "      <td>9.296</td>\n",
       "      <td>7.559</td>\n",
       "      <td>799</td>\n",
       "      <td>12.589</td>\n",
       "      <td>3.87</td>\n",
       "      <td>11.10</td>\n",
       "      <td>496.0</td>\n",
       "      <td>train</td>\n",
       "      <td>6.964286</td>\n",
       "      <td>2.785714</td>\n",
       "      <td>-1.642857</td>\n",
       "      <td>-2.464286</td>\n",
       "      <td>-6.392857</td>\n",
       "      <td>-10.571429</td>\n",
       "      <td>69.535714</td>\n",
       "      <td>54.000000</td>\n",
       "      <td>38.107143</td>\n",
       "      <td>1021.714286</td>\n",
       "      <td>1017.071429</td>\n",
       "      <td>1012.464286</td>\n",
       "      <td>16.0</td>\n",
       "      <td>15.178571</td>\n",
       "      <td>13.285714</td>\n",
       "      <td>27.928571</td>\n",
       "      <td>12.214286</td>\n",
       "      <td>41.642857</td>\n",
       "      <td>0.840385</td>\n",
       "      <td>1</td>\n",
       "      <td>0</td>\n",
       "      <td>0</td>\n",
       "      <td>0</td>\n",
       "      <td>0</td>\n",
       "      <td>0</td>\n",
       "      <td>0</td>\n",
       "      <td>0</td>\n",
       "      <td>1</td>\n",
       "      <td>0</td>\n",
       "      <td>0</td>\n",
       "      <td>0</td>\n",
       "      <td>0</td>\n",
       "      <td>0</td>\n",
       "      <td>0</td>\n",
       "      <td>0</td>\n",
       "      <td>0</td>\n",
       "      <td>0</td>\n",
       "      <td>0</td>\n",
       "      <td>1</td>\n",
       "      <td>0</td>\n",
       "      <td>0</td>\n",
       "    </tr>\n",
       "  </tbody>\n",
       "</table>\n",
       "</div>"
      ],
      "text/plain": [
       "   Monthly Nominal GDP Index (inMillion$)  \\\n",
       "0                            14421.752895   \n",
       "1                            14421.752895   \n",
       "2                            14421.752895   \n",
       "3                            14389.200466   \n",
       "4                            14389.200466   \n",
       "\n",
       "   Monthly Real GDP Index (inMillion$)      CPI  unemployment rate  \\\n",
       "0                         14407.053343  233.402                7.8   \n",
       "1                         14407.053343  233.402                7.8   \n",
       "2                         14407.053343  233.402                7.8   \n",
       "3                         14366.176571  234.663                8.3   \n",
       "4                         14366.176571  234.663                8.3   \n",
       "\n",
       "   CommercialBankInterestRateonCreditCardPlans  \\\n",
       "0                                        12.03   \n",
       "1                                        12.03   \n",
       "2                                        12.03   \n",
       "3                                        12.97   \n",
       "4                                        12.97   \n",
       "\n",
       "   Finance Rate on Personal Loans at Commercial Banks, 24 Month Loan  \\\n",
       "0                                              11.44                   \n",
       "1                                              11.44                   \n",
       "2                                              11.44                   \n",
       "3                                              11.05                   \n",
       "4                                              11.05                   \n",
       "\n",
       "   Earnings or wages  in dollars per hour  \\\n",
       "0                                   22.05   \n",
       "1                                   22.05   \n",
       "2                                   22.05   \n",
       "3                                   22.22   \n",
       "4                                   22.22   \n",
       "\n",
       "   Cotton Monthly Price - US cents per Pound(lbs)  Change(in%)  \\\n",
       "0                                           57.70         4.02   \n",
       "1                                           57.70         4.02   \n",
       "2                                           57.70         4.02   \n",
       "3                                           55.21        -4.32   \n",
       "4                                           55.21        -4.32   \n",
       "\n",
       "   Average upland planted(million acres)  \\\n",
       "0                                  9.296   \n",
       "1                                  9.296   \n",
       "2                                  9.296   \n",
       "3                                  9.296   \n",
       "4                                  9.296   \n",
       "\n",
       "   Average upland harvested(million acres)  yieldperharvested acre  \\\n",
       "0                                    7.559                     799   \n",
       "1                                    7.559                     799   \n",
       "2                                    7.559                     799   \n",
       "3                                    7.559                     799   \n",
       "4                                    7.559                     799   \n",
       "\n",
       "   Production (in  480-lb netweright in million bales)  \\\n",
       "0                                             12.589     \n",
       "1                                             12.589     \n",
       "2                                             12.589     \n",
       "3                                             12.589     \n",
       "4                                             12.589     \n",
       "\n",
       "   Mill use  (in  480-lb netweright in million bales)  Exports  \\\n",
       "0                                               4.17     11.55   \n",
       "1                                               4.17     11.55   \n",
       "2                                               4.17     11.55   \n",
       "3                                               3.87     11.10   \n",
       "4                                               3.87     11.10   \n",
       "\n",
       "   Sales(In ThousandDollars)   data  Temp high (°C)  Temp avg (°C)  \\\n",
       "0                     1755.0  train        0.741935      -2.096774   \n",
       "1                      524.0  train        0.741935      -2.096774   \n",
       "2                      936.0  train        0.741935      -2.096774   \n",
       "3                     1729.0  train        6.964286       2.785714   \n",
       "4                      496.0  train        6.964286       2.785714   \n",
       "\n",
       "   Temp low (°C)  Dew Point high (°C)  Dew Point avg (°C)  Dew Point low (°C)  \\\n",
       "0      -5.322581            -6.096774           -9.903226          -14.000000   \n",
       "1      -5.322581            -6.096774           -9.903226          -14.000000   \n",
       "2      -5.322581            -6.096774           -9.903226          -14.000000   \n",
       "3      -1.642857            -2.464286           -6.392857          -10.571429   \n",
       "4      -1.642857            -2.464286           -6.392857          -10.571429   \n",
       "\n",
       "   Humidity (%) high  Humidity (%) avg  Humidity (%) low  \\\n",
       "0          71.774194         57.354839         42.322581   \n",
       "1          71.774194         57.354839         42.322581   \n",
       "2          71.774194         57.354839         42.322581   \n",
       "3          69.535714         54.000000         38.107143   \n",
       "4          69.535714         54.000000         38.107143   \n",
       "\n",
       "   Sea Level Press. (hPa) high  Sea Level Press. (hPa) avg  \\\n",
       "0                  1021.290323                 1015.967742   \n",
       "1                  1021.290323                 1015.967742   \n",
       "2                  1021.290323                 1015.967742   \n",
       "3                  1021.714286                 1017.071429   \n",
       "4                  1021.714286                 1017.071429   \n",
       "\n",
       "   Sea Level Press. (hPa) low  Visibility (km) high  Visibility (km) avg  \\\n",
       "0                 1010.516129                  16.0            14.000000   \n",
       "1                 1010.516129                  16.0            14.000000   \n",
       "2                 1010.516129                  16.0            14.000000   \n",
       "3                 1012.464286                  16.0            15.178571   \n",
       "4                 1012.464286                  16.0            15.178571   \n",
       "\n",
       "   Visibility (km) low  Wind (km/h) low  Wind (km/h) avg  Wind (km/h) high  \\\n",
       "0            11.451613        27.000000        12.000000         39.322581   \n",
       "1            11.451613        27.000000        12.000000         39.322581   \n",
       "2            11.451613        27.000000        12.000000         39.322581   \n",
       "3            13.285714        27.928571        12.214286         41.642857   \n",
       "4            13.285714        27.928571        12.214286         41.642857   \n",
       "\n",
       "   Precip. (mm) sum  Year_2009  Year_2010  Year_2011  Year_2012  Year_2013  \\\n",
       "0          2.803704          1          0          0          0          0   \n",
       "1          2.803704          1          0          0          0          0   \n",
       "2          2.803704          1          0          0          0          0   \n",
       "3          0.840385          1          0          0          0          0   \n",
       "4          0.840385          1          0          0          0          0   \n",
       "\n",
       "   Year_2014  Year_2015  Month_1  Month_2  Month_3  Month_4  Month_5  Month_6  \\\n",
       "0          0          0        1        0        0        0        0        0   \n",
       "1          0          0        1        0        0        0        0        0   \n",
       "2          0          0        1        0        0        0        0        0   \n",
       "3          0          0        0        1        0        0        0        0   \n",
       "4          0          0        0        1        0        0        0        0   \n",
       "\n",
       "   Month_7  Month_8  Month_9  Month_10  Month_11  Month_12  \\\n",
       "0        0        0        0         0         0         0   \n",
       "1        0        0        0         0         0         0   \n",
       "2        0        0        0         0         0         0   \n",
       "3        0        0        0         0         0         0   \n",
       "4        0        0        0         0         0         0   \n",
       "\n",
       "   ProductCategory_MenClothing  ProductCategory_OtherClothing  \\\n",
       "0                            0                              0   \n",
       "1                            1                              0   \n",
       "2                            0                              1   \n",
       "3                            0                              0   \n",
       "4                            1                              0   \n",
       "\n",
       "   ProductCategory_WomenClothing  \n",
       "0                              1  \n",
       "1                              0  \n",
       "2                              0  \n",
       "3                              1  \n",
       "4                              0  "
      ]
     },
     "execution_count": 144,
     "metadata": {},
     "output_type": "execute_result"
    }
   ],
   "source": [
    "comb_wtf.head()"
   ]
  },
  {
   "cell_type": "code",
   "execution_count": 145,
   "metadata": {},
   "outputs": [
    {
     "data": {
      "text/plain": [
       "(240, 58)"
      ]
     },
     "execution_count": 145,
     "metadata": {},
     "output_type": "execute_result"
    }
   ],
   "source": [
    "comb_wtf.shape"
   ]
  },
  {
   "cell_type": "code",
   "execution_count": 146,
   "metadata": {},
   "outputs": [],
   "source": [
    "cwt_train=comb_wtf[comb_wtf['data']=='train']\n",
    "cwt_test=comb_wtf[comb_wtf['data']=='test']"
   ]
  },
  {
   "cell_type": "code",
   "execution_count": 147,
   "metadata": {},
   "outputs": [],
   "source": [
    "cwt_train=cwt_train.drop('data',axis=1)\n",
    "cwt_test=cwt_test.drop('data',axis=1)\n",
    "cwt_test=cwt_test.drop('Sales(In ThousandDollars)',axis=1)"
   ]
  },
  {
   "cell_type": "code",
   "execution_count": 148,
   "metadata": {},
   "outputs": [],
   "source": [
    "X2=cwt_train.drop('Sales(In ThousandDollars)',axis=1)\n",
    "y2=cwt_train['Sales(In ThousandDollars)']"
   ]
  },
  {
   "cell_type": "code",
   "execution_count": 149,
   "metadata": {},
   "outputs": [],
   "source": [
    "X_train2,X_test2,y_train2,y_test2=train_test_split(X2,y2,test_size=0.30)"
   ]
  },
  {
   "cell_type": "code",
   "execution_count": 150,
   "metadata": {},
   "outputs": [
    {
     "data": {
      "text/plain": [
       "(142, 56)"
      ]
     },
     "execution_count": 150,
     "metadata": {},
     "output_type": "execute_result"
    }
   ],
   "source": [
    "X_train2.shape"
   ]
  },
  {
   "cell_type": "markdown",
   "metadata": {},
   "source": [
    "### Linear Regression After Weather"
   ]
  },
  {
   "cell_type": "code",
   "execution_count": 151,
   "metadata": {},
   "outputs": [
    {
     "data": {
      "text/plain": [
       "LinearRegression(copy_X=True, fit_intercept=True, n_jobs=None, normalize=False)"
      ]
     },
     "execution_count": 151,
     "metadata": {},
     "output_type": "execute_result"
    }
   ],
   "source": [
    "lr.fit(X_train2,y_train2)"
   ]
  },
  {
   "cell_type": "code",
   "execution_count": 152,
   "metadata": {},
   "outputs": [
    {
     "name": "stdout",
     "output_type": "stream",
     "text": [
      "mse_train2: 97386.31808384902\n",
      "r2_train2: 0.941669163625345 \n",
      "\n",
      "mse: 163095.0741520373\n",
      "r2_test2: 0.8759794665698515\n"
     ]
    }
   ],
   "source": [
    "ypred_lr2=lr.predict(X_train2)\n",
    "mse_lr2=mean_squared_error(y_train2,ypred_lr2)\n",
    "r2_lr2=r2_score(y_train2,ypred_lr2)\n",
    "print('mse_train2:',mse_lr2)\n",
    "print('r2_train2:',r2_lr2,'\\n')\n",
    "\n",
    "ypred_lr2_tst=lr.predict(X_test2)\n",
    "mse_lr2_tst=mean_squared_error(y_test2,ypred_lr2_tst)\n",
    "r2_lr2_tst=r2_score(y_test2,ypred_lr2_tst)\n",
    "print('mse:',mse_lr2_tst)\n",
    "print('r2_test2:',r2_lr2_tst)"
   ]
  },
  {
   "cell_type": "markdown",
   "metadata": {},
   "source": [
    "### Random Forest Regressor after weather "
   ]
  },
  {
   "cell_type": "code",
   "execution_count": 153,
   "metadata": {},
   "outputs": [],
   "source": [
    "rf=RandomForestRegressor(n_estimators=55,random_state=25)"
   ]
  },
  {
   "cell_type": "code",
   "execution_count": 154,
   "metadata": {},
   "outputs": [
    {
     "data": {
      "text/plain": [
       "RandomForestRegressor(bootstrap=True, criterion='mse', max_depth=None,\n",
       "                      max_features='auto', max_leaf_nodes=None,\n",
       "                      min_impurity_decrease=0.0, min_impurity_split=None,\n",
       "                      min_samples_leaf=1, min_samples_split=2,\n",
       "                      min_weight_fraction_leaf=0.0, n_estimators=55,\n",
       "                      n_jobs=None, oob_score=False, random_state=25, verbose=0,\n",
       "                      warm_start=False)"
      ]
     },
     "execution_count": 154,
     "metadata": {},
     "output_type": "execute_result"
    }
   ],
   "source": [
    "rf.fit(X_train2,y_train2)"
   ]
  },
  {
   "cell_type": "code",
   "execution_count": 155,
   "metadata": {},
   "outputs": [],
   "source": [
    "ypred_rf2_trn=rf.predict(X_train2)\n",
    "ypred_rf2=rf.predict(X_test2)"
   ]
  },
  {
   "cell_type": "code",
   "execution_count": 156,
   "metadata": {},
   "outputs": [],
   "source": [
    "mse_rf2_trn=mean_squared_error(y_train2,ypred_rf2_trn)\n",
    "r2_rf2_trn=r2_score(y_train2,ypred_rf2_trn)\n",
    "\n",
    "\n",
    "mse_rf2=mean_squared_error(y_test2,ypred_rf2)\n",
    "r2_rf2=r2_score(y_test2,ypred_rf2)"
   ]
  },
  {
   "cell_type": "code",
   "execution_count": 157,
   "metadata": {},
   "outputs": [
    {
     "name": "stdout",
     "output_type": "stream",
     "text": [
      "mse_rf2_train: 143.96701584239548\n",
      "r2_rf2_train: 0.9875855849139182 \n",
      "\n",
      "mse_rf2_test: 371.1633489910216\n",
      "r2_rf2_test: 0.8952430320619124\n"
     ]
    }
   ],
   "source": [
    "print('mse_rf2_train:',np.sqrt(mse_rf2_trn))\n",
    "print('r2_rf2_train:',r2_rf2_trn,'\\n')\n",
    "\n",
    "print('mse_rf2_test:',np.sqrt(mse_rf2))\n",
    "print('r2_rf2_test:',r2_rf2)"
   ]
  },
  {
   "cell_type": "raw",
   "metadata": {},
   "source": [
    "y_pred_rf2=rf.predict(cwt_test)\n",
    "y_pred_rf2=pd.DataFrame({'S.No.':np.arange(1,37),'Sales':y_pred_rf2})\n",
    "y_pred_rf2.to_csv('Enasubwtrf.csv')"
   ]
  },
  {
   "cell_type": "markdown",
   "metadata": {},
   "source": [
    "### Recursive Feature Elimination (RFE)"
   ]
  },
  {
   "cell_type": "code",
   "execution_count": 158,
   "metadata": {},
   "outputs": [
    {
     "name": "stdout",
     "output_type": "stream",
     "text": [
      "[ True  True  True  True False  True  True  True  True False  True  True\n",
      "  True False  True  True False  True  True  True  True  True False  True\n",
      "  True  True False False  True  True False  True False  True False False\n",
      " False False False False False  True False False False False False False\n",
      " False False False False  True  True  True  True]\n",
      "[ 1  1  1  1  8  1  1  1  1  5  1  1  1  3  1  1  7  1  1  1  1  1 10  1\n",
      "  1  1  2  6  1  1  9  1  4  1 20 24 16 13 11 14 27  1 15 17 25 12 19 26\n",
      " 23 22 18 21  1  1  1  1]\n"
     ]
    }
   ],
   "source": [
    "from sklearn.feature_selection import RFE\n",
    "\n",
    "rfe = RFE(rf,30)\n",
    "rfe = rfe.fit(X_train2,y_train2)\n",
    "\n",
    "print(rfe.support_)\n",
    "print(rfe.ranking_)\n",
    "\n",
    "idc_rfe = pd.DataFrame({\"rfe_support\" :rfe.support_,\n",
    "                       \"columns\" :X_train2.columns ,\n",
    "                       \"ranking\" : rfe.ranking_,\n",
    "                      })\n",
    "cols = idc_rfe[idc_rfe[\"rfe_support\"] == True][\"columns\"].tolist()\n",
    "\n",
    "X_train_rfe=X_train2[cols]\n",
    "X_test_rfe=X_test2[cols]"
   ]
  },
  {
   "cell_type": "code",
   "execution_count": 159,
   "metadata": {},
   "outputs": [
    {
     "name": "stdout",
     "output_type": "stream",
     "text": [
      "mse_rfe_rf2_test: 350.3666795290236\n",
      "r2_rfe_rf2_test: 0.906653434182851\n"
     ]
    }
   ],
   "source": [
    "# Applying Rf reg after RFE\n",
    "rf=RandomForestRegressor(n_estimators=100,random_state=31)\n",
    "rf.fit(X_train_rfe,y_train2)\n",
    "\n",
    "y_predrf2_rfe=rf.predict(X_test_rfe)\n",
    "\n",
    "mse_rf2_rfe=mean_squared_error(y_test2,y_predrf2_rfe)\n",
    "r2_rf2_rfe=r2_score(y_test2,y_predrf2_rfe)\n",
    "\n",
    "print('mse_rfe_rf2_test:',np.sqrt(mse_rf2_rfe))\n",
    "print('r2_rfe_rf2_test:',r2_rf2_rfe)"
   ]
  },
  {
   "cell_type": "markdown",
   "metadata": {},
   "source": [
    "### Tpot Regressor After Weather and RFE"
   ]
  },
  {
   "cell_type": "raw",
   "metadata": {},
   "source": [
    "from tpot import TPOTRegressor\n",
    "tpot = TPOTRegressor(generations=7, population_size=30, cv=7,random_state=31, verbosity=3)\n",
    "tpot.fit(X_train2, y_train2)"
   ]
  },
  {
   "cell_type": "raw",
   "metadata": {},
   "source": [
    "tpot.fitted_pipeline_"
   ]
  },
  {
   "cell_type": "raw",
   "metadata": {},
   "source": [
    "tpot.score(X_test2, y_test2)"
   ]
  },
  {
   "cell_type": "raw",
   "metadata": {},
   "source": [
    "y_predtpt2=tpot.predict(X_test2)"
   ]
  },
  {
   "cell_type": "raw",
   "metadata": {},
   "source": [
    "mse_tpt2=np.sqrt(mean_squared_error(y_test2,y_predtpt2))\n",
    "r2_tpt2=r2_score(y_test2,y_predtpt2)"
   ]
  },
  {
   "cell_type": "raw",
   "metadata": {},
   "source": [
    "print('mse_tpt2:',mse_tpt2)\n",
    "print('r2_tpt2:',r2_tpt2)"
   ]
  },
  {
   "cell_type": "raw",
   "metadata": {},
   "source": [
    "cwt_test_rfe=cwt_test[cols]\n",
    "# y_predtpt_final=tpot.predict(cwt_test_rfe)\n",
    "cwt_test_rfe.shape"
   ]
  },
  {
   "cell_type": "raw",
   "metadata": {},
   "source": [
    "y_predtpt_final=rf.predict(cwt_test)\n",
    "y_predtpt_final=pd.DataFrame({'S.No.':np.arange(1,37),'Sales':y_predtpt_final})\n",
    "y_predtpt_final.to_csv('Enasubtptfinal.csv')\n",
    "# y_predtpt_final"
   ]
  },
  {
   "cell_type": "raw",
   "metadata": {},
   "source": [
    "Applying the best estimator from tpot results"
   ]
  },
  {
   "cell_type": "markdown",
   "metadata": {},
   "source": [
    "### ExtraTreesRegressor"
   ]
  },
  {
   "cell_type": "code",
   "execution_count": 160,
   "metadata": {},
   "outputs": [],
   "source": [
    "from sklearn.ensemble import ExtraTreesRegressor\n",
    "etr=ExtraTreesRegressor(bootstrap=True,criterion='mse',\n",
    "                        max_features=1.0,min_samples_leaf=1,min_samples_split=4,n_estimators=100)"
   ]
  },
  {
   "cell_type": "code",
   "execution_count": 161,
   "metadata": {},
   "outputs": [
    {
     "data": {
      "text/plain": [
       "ExtraTreesRegressor(bootstrap=True, criterion='mse', max_depth=None,\n",
       "                    max_features=1.0, max_leaf_nodes=None,\n",
       "                    min_impurity_decrease=0.0, min_impurity_split=None,\n",
       "                    min_samples_leaf=1, min_samples_split=4,\n",
       "                    min_weight_fraction_leaf=0.0, n_estimators=100, n_jobs=None,\n",
       "                    oob_score=False, random_state=None, verbose=0,\n",
       "                    warm_start=False)"
      ]
     },
     "execution_count": 161,
     "metadata": {},
     "output_type": "execute_result"
    }
   ],
   "source": [
    "etr.fit(X_train_rfe,y_train2)"
   ]
  },
  {
   "cell_type": "code",
   "execution_count": 162,
   "metadata": {},
   "outputs": [],
   "source": [
    "y_pred_etr=etr.predict(X_test_rfe)"
   ]
  },
  {
   "cell_type": "code",
   "execution_count": 163,
   "metadata": {},
   "outputs": [
    {
     "data": {
      "text/plain": [
       "1751.73986015501"
      ]
     },
     "execution_count": 163,
     "metadata": {},
     "output_type": "execute_result"
    }
   ],
   "source": [
    "rmse_etr=np.sqrt(mean_squared_error(y_test,y_pred_etr))\n",
    "rmse_etr"
   ]
  },
  {
   "cell_type": "code",
   "execution_count": 164,
   "metadata": {},
   "outputs": [
    {
     "data": {
      "text/plain": [
       "-0.5360020710530269"
      ]
     },
     "execution_count": 164,
     "metadata": {},
     "output_type": "execute_result"
    }
   ],
   "source": [
    "r2=r2_score(y_test,y_pred_etr)\n",
    "r2"
   ]
  },
  {
   "cell_type": "markdown",
   "metadata": {},
   "source": [
    "### PCA"
   ]
  },
  {
   "cell_type": "raw",
   "metadata": {},
   "source": [
    "we need to scale the data before applying PCA"
   ]
  },
  {
   "cell_type": "code",
   "execution_count": null,
   "metadata": {},
   "outputs": [],
   "source": [
    "from sklearn.preprocessing import StandardScaler\n",
    "ss=StandardScaler()\n",
    "cols_ss=X_train2.columns\n",
    "X_train_ss=pd.DataFrame(ss.fit_transform(X_train2),columns=cols_ss)\n",
    "X_test_ss=pd.DataFrame(ss.transform(X_test2),columns=cols_ss)"
   ]
  },
  {
   "cell_type": "code",
   "execution_count": null,
   "metadata": {},
   "outputs": [],
   "source": [
    "from sklearn.decomposition import PCA\n",
    "pca=PCA()\n",
    "\n",
    "pca.fit_transform"
   ]
  },
  {
   "cell_type": "code",
   "execution_count": null,
   "metadata": {},
   "outputs": [],
   "source": [
    "pca = PCA(n_components=2)\n",
    "\n",
    "X_train_ss_cen = X_train_ss - X_train_ss.mean(axis=0)\n",
    "X_train_pca = pca.fit_transform(X_train_ss_cen)"
   ]
  },
  {
   "cell_type": "code",
   "execution_count": null,
   "metadata": {},
   "outputs": [],
   "source": [
    "X_test_ss_cen=X_test_ss-X_test_ss.mean(axis=0)\n",
    "X_test_pca = pca.transform(X_test_ss_cen)"
   ]
  },
  {
   "cell_type": "raw",
   "metadata": {},
   "source": [
    "X_train_pca\n",
    "X_test_pca"
   ]
  },
  {
   "cell_type": "code",
   "execution_count": null,
   "metadata": {},
   "outputs": [],
   "source": [
    "# Applying  Adaboost after PCA\n",
    "adb=AdaBoostRegressor( base_estimator=None,\n",
    "    n_estimators=50,\n",
    "    learning_rate=0.15,\n",
    "    loss='linear',\n",
    "    random_state=24)\n",
    "\n",
    "adb.fit(X_train_pca,y_train2)"
   ]
  },
  {
   "cell_type": "code",
   "execution_count": null,
   "metadata": {},
   "outputs": [],
   "source": [
    "y_pred_pca_ada=adb.predict(X_test_pca)"
   ]
  },
  {
   "cell_type": "code",
   "execution_count": null,
   "metadata": {},
   "outputs": [],
   "source": [
    "rmse_pca=np.sqrt(mean_squared_error(y_test2,y_pred_pca_ada))\n",
    "rmse_pca"
   ]
  },
  {
   "cell_type": "code",
   "execution_count": null,
   "metadata": {},
   "outputs": [],
   "source": [
    "r2_score(y_test2,y_pred_pca_ada)"
   ]
  },
  {
   "cell_type": "code",
   "execution_count": null,
   "metadata": {},
   "outputs": [],
   "source": [
    "cwt_test.shape"
   ]
  },
  {
   "cell_type": "code",
   "execution_count": null,
   "metadata": {},
   "outputs": [],
   "source": [
    "cwt_test_pca=ss.transform(cwt_test)\n",
    "cwt_test_pca=pca.transform(cwt_test_pca)\n",
    "y_pred_pca_sub=adb.predict(cwt_test_pca)\n",
    "y_pred_pca_sub=pd.DataFrame({'S.No.':np.arange(1,37),'Sales':y_pred_pca_sub})\n",
    "y_pred_pca_sub.to_csv('Enasub_pca.csv')\n",
    "# y_predtpt_final"
   ]
  },
  {
   "cell_type": "markdown",
   "metadata": {},
   "source": [
    "### ADA BOOST"
   ]
  },
  {
   "cell_type": "code",
   "execution_count": null,
   "metadata": {},
   "outputs": [],
   "source": [
    "\n",
    "rf=KNeighborsRegressor()\n",
    "adb=AdaBoostRegressor(base_estimator=rf,n_estimators=9,learning_rate=0.9,random_state=30)\n",
    "adb.fit(X_train2,y_train2)\n",
    "y_pred_abg2=adb.predict(X_test2)\n",
    "mse_abg2=mean_squared_error(y_test2,y_pred_abg2)\n",
    "r2_abg=r2_score(y_test2,y_pred_abg2)\n",
    "(np.sqrt(mse_abg2),r2_abg)"
   ]
  },
  {
   "cell_type": "markdown",
   "metadata": {},
   "source": [
    "##### Analysis is in progress...!"
   ]
  },
  {
   "cell_type": "markdown",
   "metadata": {},
   "source": [
    "#####    "
   ]
  },
  {
   "cell_type": "markdown",
   "metadata": {},
   "source": [
    "##### Enavamshi Gadikota\n",
    "enavamshi@outlook.in <br>\n",
    "+91 8939195694 <br>\n",
    "Data Science professional"
   ]
  }
 ],
 "metadata": {
  "kernelspec": {
   "display_name": "Python 3",
   "language": "python",
   "name": "python3"
  },
  "language_info": {
   "codemirror_mode": {
    "name": "ipython",
    "version": 3
   },
   "file_extension": ".py",
   "mimetype": "text/x-python",
   "name": "python",
   "nbconvert_exporter": "python",
   "pygments_lexer": "ipython3",
   "version": "3.7.3"
  }
 },
 "nbformat": 4,
 "nbformat_minor": 2
}
